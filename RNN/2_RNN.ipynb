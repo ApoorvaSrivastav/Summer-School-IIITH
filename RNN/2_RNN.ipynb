{
  "nbformat": 4,
  "nbformat_minor": 0,
  "metadata": {
    "kernelspec": {
      "name": "python3",
      "display_name": "Python 3"
    },
    "colab": {
      "name": "2_RNN.ipynb",
      "provenance": [],
      "include_colab_link": true
    },
    "language_info": {
      "name": "python"
    }
  },
  "cells": [
    {
      "cell_type": "markdown",
      "metadata": {
        "id": "view-in-github",
        "colab_type": "text"
      },
      "source": [
        "<a href=\"https://colab.research.google.com/github/ThrupthiAnn/CVSummerSchool2021/blob/main/RNN/2_RNN.ipynb\" target=\"_parent\"><img src=\"https://colab.research.google.com/assets/colab-badge.svg\" alt=\"Open In Colab\"/></a>"
      ]
    },
    {
      "cell_type": "markdown",
      "metadata": {
        "id": "y0QjZM_oPrcY"
      },
      "source": [
        "# RECURRENT NEURAL NETWORKS"
      ]
    },
    {
      "cell_type": "markdown",
      "metadata": {
        "id": "6y4pC7zSPrch"
      },
      "source": [
        "## Problem Statement"
      ]
    },
    {
      "cell_type": "markdown",
      "metadata": {
        "id": "3LD6eShVPrck"
      },
      "source": [
        "[MNIST dataset](http://yann.lecun.com/exdb/mnist/) consists of 28x28 images of digits '0' to '9'. Each digit can be thought of as a sequence of 28 dimensional vectors. Use LSTM many-to-one network to classify MNIST digits."
      ]
    },
    {
      "cell_type": "markdown",
      "metadata": {
        "id": "-MouZc_wPrcn"
      },
      "source": [
        "<img src=\"https://raw.githubusercontent.com/ThrupthiAnn/CVSummerSchool2021/main/RNN/data/MNIST-Matrix.png\" alt=\"rnn\" height=200px/>"
      ]
    },
    {
      "cell_type": "markdown",
      "metadata": {
        "id": "VZ5AdwQyPrcp"
      },
      "source": [
        "### 1) Imports"
      ]
    },
    {
      "cell_type": "code",
      "metadata": {
        "collapsed": true,
        "id": "5JvX1ntEPrcq"
      },
      "source": [
        "from __future__ import print_function           # Use print() instead of print\n",
        "from __future__ import division                 # 1 / 2 = 0.5, 1 // 2 = 0\n",
        "import torch                                    # import PyTorch module \n",
        "import torch.nn as nn                           # neural network module\n",
        "from torch.utils.data import DataLoader         # dataloader abstracts sampling of minibatch\n",
        "import torchvision.datasets as dset             # standard machine learning datasets\n",
        "import torchvision.transforms as tform          # transforms for data augmentation\n",
        "from torch.autograd import Variable             # auto differentiation\n",
        "# import sd_utils as utils                        # some python helper functions ( see: sd_utils.py ) "
      ],
      "execution_count": 14,
      "outputs": []
    },
    {
      "cell_type": "markdown",
      "metadata": {
        "id": "v8TcgqPBPrct"
      },
      "source": [
        "### 2) Hyper Parameters and Initializations"
      ]
    },
    {
      "cell_type": "code",
      "metadata": {
        "colab": {
          "base_uri": "https://localhost:8080/"
        },
        "id": "q-1Z3FQxPrcw",
        "outputId": "e6ffef21-bbf6-4e7c-971c-4752178a3c5a"
      },
      "source": [
        "torch.manual_seed(1234)                        # set random number seed for repeatability of results"
      ],
      "execution_count": 15,
      "outputs": [
        {
          "output_type": "execute_result",
          "data": {
            "text/plain": [
              "<torch._C.Generator at 0x7f32b1f31450>"
            ]
          },
          "metadata": {
            "tags": []
          },
          "execution_count": 15
        }
      ]
    },
    {
      "cell_type": "markdown",
      "metadata": {
        "id": "ofotzbsrPrc0"
      },
      "source": [
        "#### a) Dataset related"
      ]
    },
    {
      "cell_type": "code",
      "metadata": {
        "collapsed": true,
        "id": "dBGSRq-8Prc6"
      },
      "source": [
        "num_classes = 10                                # MNIST dataset has digits 0 to 9\n",
        "seq_len = 28                                    # 28x28 image is considered as a sequence of 28 rows\n",
        "                                                # number of steps to unroll the RNN for"
      ],
      "execution_count": 16,
      "outputs": []
    },
    {
      "cell_type": "markdown",
      "metadata": {
        "id": "RpVfv5TWPrc9"
      },
      "source": [
        "#### b) Learning"
      ]
    },
    {
      "cell_type": "code",
      "metadata": {
        "collapsed": true,
        "id": "fREympMwPrc9"
      },
      "source": [
        "batch_size = 100\n",
        "num_epochs = 2\n",
        "learning_rate = 0.01"
      ],
      "execution_count": 17,
      "outputs": []
    },
    {
      "cell_type": "markdown",
      "metadata": {
        "id": "xe5M6Wn8Prc_"
      },
      "source": [
        "#### c) Network"
      ]
    },
    {
      "cell_type": "code",
      "metadata": {
        "collapsed": true,
        "id": "RG1cwZ75PrdA"
      },
      "source": [
        "input_size = 28                                # \n",
        "hidden_size = 128                              # number of neurons in the hidden layer\n",
        "num_layers = 2                                 # number of recurrent layers "
      ],
      "execution_count": 18,
      "outputs": []
    },
    {
      "cell_type": "markdown",
      "metadata": {
        "id": "EXtQotFMPrdB"
      },
      "source": [
        "### 3) Download and Preprocess Dataset"
      ]
    },
    {
      "cell_type": "code",
      "metadata": {
        "id": "XSlrOuz0PrdB"
      },
      "source": [
        "dset_train = dset.MNIST(root='./data/',            # where to download the dataset ?\n",
        "                        train=True,                     # train or test\n",
        "                        transform=tform.ToTensor(),     # what transforms to apply ? can compose many transforms\n",
        "                        download=True                   # download dataset if required\n",
        "                       )\n",
        "\n",
        "dset_test = dset.MNIST(root='./data/',             # where to download the dataset ?\n",
        "                        train=False,                    # train or test\n",
        "                        transform=tform.ToTensor(),     # what transforms to apply ? can compose many transforms\n",
        "                        download=True                   # download dataset if required\n",
        "                       )"
      ],
      "execution_count": 19,
      "outputs": []
    },
    {
      "cell_type": "markdown",
      "metadata": {
        "id": "_SUrUgUPPrdC"
      },
      "source": [
        "### 4) Create [DataLoader](http://pytorch.org/docs/_modules/torch/utils/data/dataloader.html) objects (\"[python generator](http://naiquevin.github.io/python-generators-and-being-lazy.html)\" which samples a minibatch from the dataset)"
      ]
    },
    {
      "cell_type": "code",
      "metadata": {
        "collapsed": true,
        "id": "lVekDub5PrdC"
      },
      "source": [
        "dloader_train = DataLoader(dataset=dset_train,         # dataset object\n",
        "                           batch_size=batch_size,      # batch size\n",
        "                           shuffle=True                # important to shuffle data while training\n",
        "                          )\n",
        "\n",
        "dloader_test  = DataLoader(dataset=dset_test,          # dataset object\n",
        "                           batch_size=batch_size,      # batch size\n",
        "                           shuffle=False               # main consistent order for test set\n",
        "                          )"
      ],
      "execution_count": 20,
      "outputs": []
    },
    {
      "cell_type": "markdown",
      "metadata": {
        "id": "6xLxLGvIPrdD"
      },
      "source": [
        "### 5) Define neural network model : RNN"
      ]
    },
    {
      "cell_type": "code",
      "metadata": {
        "collapsed": true,
        "id": "s_spy8T0PrdD"
      },
      "source": [
        "class RNN(nn.Module):\n",
        "    \"\"\"Implements a LSTM network\"\"\"\n",
        "    def __init__(self):\n",
        "        super(RNN, self).__init__()                    # python inheritance: call base class constructor\n",
        "        self.hidden_size = hidden_size                 \n",
        "        self.num_layers = num_layers                  # number of recurrent layers\n",
        "        self.lstm = nn.LSTM(input_size=input_size,    # number of expected features in the input x \n",
        "                            hidden_size=hidden_size,  # number of features in the hidden state h\n",
        "                            num_layers=num_layers,    # number of recurrent layers\n",
        "                            batch_first=True          # order: (batch, seq, feature)\n",
        "                           )\n",
        "        self.fc = nn.Linear(hidden_size, num_classes)\n",
        "    \n",
        "    def forward(self, x):\n",
        "        \n",
        "        # Each image is a separate sequence\n",
        "        # So we need to reinitialize each time\n",
        "        h0 = Variable(torch.zeros(self.num_layers, x.size(0), self.hidden_size)) \n",
        "        c0 = Variable(torch.zeros(self.num_layers, x.size(0), self.hidden_size))\n",
        "        \n",
        "        h = Variable(torch.zeros(self.num_layers, x.size(0), self.hidden_size))\n",
        "            # Decode hidden state of last time step\n",
        "            \n",
        "        # Forward propagate RNN\n",
        "        out, _ = self.lstm(x, (h0, c0))  \n",
        "            \n",
        "        out = self.fc(out[:, -1, :])  \n",
        "        return out\n",
        "    \n",
        "rnn = RNN()"
      ],
      "execution_count": 21,
      "outputs": []
    },
    {
      "cell_type": "markdown",
      "metadata": {
        "id": "cpXQTDz7PrdE"
      },
      "source": [
        "### 6) Define Loss function and Optimizer"
      ]
    },
    {
      "cell_type": "code",
      "metadata": {
        "collapsed": true,
        "id": "XS1NuVTOPrdF"
      },
      "source": [
        "criterion = nn.CrossEntropyLoss()\n",
        "optimizer = torch.optim.Adam(rnn.parameters(), lr=learning_rate)     "
      ],
      "execution_count": 22,
      "outputs": []
    },
    {
      "cell_type": "markdown",
      "metadata": {
        "id": "FBp7iy3fPrdG"
      },
      "source": [
        "### 7) Training Loop"
      ]
    },
    {
      "cell_type": "code",
      "metadata": {
        "colab": {
          "base_uri": "https://localhost:8080/"
        },
        "id": "0Pz_3LYIPrdH",
        "outputId": "0f069231-6ebd-404e-9d3a-885804b244e3"
      },
      "source": [
        "# Train the Model\n",
        "for epoch in range(num_epochs):\n",
        "    for i, (images, labels) in enumerate(dloader_train):\n",
        "        images = Variable(images.view(-1, seq_len, input_size))\n",
        "        labels = Variable(labels)\n",
        "        \n",
        "        # Forward + Backward + Optimize\n",
        "        optimizer.zero_grad()\n",
        "        outputs = rnn(images)\n",
        "        loss = criterion(outputs, labels)\n",
        "        loss.backward()\n",
        "        optimizer.step()\n",
        "        \n",
        "        if (i+1) % 100 == 0:\n",
        "            print ('Epoch [%d/%d], Step [%d/%d], Loss: %.4f' \n",
        "                   %(epoch+1, num_epochs, i+1, len(dset_train)//batch_size, loss.item()))"
      ],
      "execution_count": 23,
      "outputs": [
        {
          "output_type": "stream",
          "text": [
            "Epoch [1/2], Step [100/600], Loss: 0.6016\n",
            "Epoch [1/2], Step [200/600], Loss: 0.2160\n",
            "Epoch [1/2], Step [300/600], Loss: 0.1585\n",
            "Epoch [1/2], Step [400/600], Loss: 0.2540\n",
            "Epoch [1/2], Step [500/600], Loss: 0.1072\n",
            "Epoch [1/2], Step [600/600], Loss: 0.1758\n",
            "Epoch [2/2], Step [100/600], Loss: 0.0470\n",
            "Epoch [2/2], Step [200/600], Loss: 0.1421\n",
            "Epoch [2/2], Step [300/600], Loss: 0.0925\n",
            "Epoch [2/2], Step [400/600], Loss: 0.0780\n",
            "Epoch [2/2], Step [500/600], Loss: 0.0501\n",
            "Epoch [2/2], Step [600/600], Loss: 0.0590\n"
          ],
          "name": "stdout"
        }
      ]
    },
    {
      "cell_type": "markdown",
      "metadata": {
        "id": "FAIpaxCdPrdH"
      },
      "source": [
        "### 8) Testing Loop"
      ]
    },
    {
      "cell_type": "code",
      "metadata": {
        "colab": {
          "base_uri": "https://localhost:8080/"
        },
        "id": "PTUtPX_FPrdI",
        "outputId": "ce7808d4-9ff2-4a6a-fd98-10d43f53110b"
      },
      "source": [
        "correct = 0\n",
        "total = 0\n",
        "for images, labels in dloader_test:\n",
        "    images = Variable(images.view(-1, seq_len, input_size))\n",
        "    outputs = rnn(images)\n",
        "    _, predicted = torch.max(outputs.data, 1)\n",
        "    total += labels.size(0)\n",
        "    correct += (predicted == labels).sum()\n",
        "\n",
        "print('Test Accuracy of the model on the 10000 test images: %d %%' % (100 * correct / total)) "
      ],
      "execution_count": 24,
      "outputs": [
        {
          "output_type": "stream",
          "text": [
            "Test Accuracy of the model on the 10000 test images: 97 %\n"
          ],
          "name": "stdout"
        }
      ]
    },
    {
      "cell_type": "markdown",
      "metadata": {
        "id": "T5eblgfdPrdJ"
      },
      "source": [
        "### 9) Save model "
      ]
    },
    {
      "cell_type": "code",
      "metadata": {
        "collapsed": true,
        "id": "XlIX456BPrdM"
      },
      "source": [
        "torch.save(rnn.state_dict(), 'rnn.pkl')"
      ],
      "execution_count": 25,
      "outputs": []
    },
    {
      "cell_type": "markdown",
      "metadata": {
        "id": "lld2aHNzPrdM"
      },
      "source": [
        "## References\n",
        "Following references were used in preparing this tutorial:\n",
        "1. Yunjey Choi, [PyTorch Tutorials](https://github.com/yunjey/pytorch-tutorial)\n",
        "2. Pytorch, [PyTorch Tuorials](http://pytorch.org/tutorials/)\n",
        "3. Andrej Karpathy, [Unreasonable Effectiveness of RNNs](http://karpathy.github.io/2015/05/21/rnn-effectiveness/)\n",
        "4. Christopher Olah [Understanding LSTMs](http://colah.github.io/posts/2015-08-Understanding-LSTMs/)\n",
        "5. DeepLearning4j [Beginner's guide to learning LSTMs](https://deeplearning4j.org/lstm.html)"
      ]
    }
  ]
}