{
  "nbformat": 4,
  "nbformat_minor": 0,
  "metadata": {
    "kernelspec": {
      "display_name": "Python 3",
      "language": "python",
      "name": "python3"
    },
    "language_info": {
      "codemirror_mode": {
        "name": "ipython",
        "version": 3
      },
      "file_extension": ".py",
      "mimetype": "text/x-python",
      "name": "python",
      "nbconvert_exporter": "python",
      "pygments_lexer": "ipython3",
      "version": "3.5.2"
    },
    "colab": {
      "name": "1-Output-k-th-number.ipynb",
      "provenance": [],
      "collapsed_sections": [],
      "include_colab_link": true
    }
  },
  "cells": [
    {
      "cell_type": "markdown",
      "metadata": {
        "id": "view-in-github",
        "colab_type": "text"
      },
      "source": [
        "<a href=\"https://colab.research.google.com/github/ThrupthiAnn/SummerSchool2021_HandsOn_Aug7/blob/main/RNN/1_Output_k_th_number.ipynb\" target=\"_parent\"><img src=\"https://colab.research.google.com/assets/colab-badge.svg\" alt=\"Open In Colab\"/></a>"
      ]
    },
    {
      "cell_type": "markdown",
      "metadata": {
        "id": "X6i_kV3sa4As"
      },
      "source": [
        "## Memorize Kth number in a sequence of numbers ##\n",
        "\n",
        "This being the first problem in the RNN lab, we would start with a toy example, which is quick to train and easy to understand. What we got to do is to train a recurrent network to always remember the number appearing in a particular position in any sequence of integers.\n",
        "\n",
        "Below examples show few cases where the number to be remembered is at position 2\n",
        "\n",
        "`6,9,8,1,8,3,4  -- > 9`<br>\n",
        "`1,2,3,4 --> 2`<br>\n",
        "`9,7,2,3,4,5,6,1,1,1 -- > 7`<br>"
      ]
    },
    {
      "cell_type": "markdown",
      "metadata": {
        "id": "q1e1g5VFa4A0"
      },
      "source": [
        "### Overview ###\n",
        "\n",
        "\n",
        "This exercise is planned as below:\n",
        "\n",
        "       1. First, we we discuss how the integers are represented \n",
        "       2. Then we see how the input and outputs to the network look like\n",
        "       3. We set up the RNN network and define how the forward pass mus be done\n",
        "       4. We explore the memory retention abilities of a vanilla RNN vs an LSTM or GRU"
      ]
    },
    {
      "cell_type": "code",
      "metadata": {
        "id": "Sm5gj_Sua4A3"
      },
      "source": [
        "# coding: utf-8\n",
        "# =============================================================================\n",
        "# Make an RNN output kth integer in a sequence of N integers ( N > k)\n",
        "# Sequences could be of any length\n",
        "\n",
        "# ==============================================================================\n",
        "\n",
        "\n",
        "%matplotlib notebook\n",
        "import matplotlib.pyplot as plt\n",
        "import numpy as np\n",
        "from time import sleep\n",
        "import random\n",
        "import sys\n",
        "import torch\n",
        "import torch.autograd as autograd\n",
        "import torch.nn as nn\n",
        "import torch.nn.functional as F\n",
        "import torch.optim as optim\n",
        "random.seed( 10 ) # set the random seed (for reproducibility)"
      ],
      "execution_count": null,
      "outputs": []
    },
    {
      "cell_type": "markdown",
      "metadata": {
        "id": "hRYQZQRJa4A6"
      },
      "source": [
        "## Preparing the Training Data ##\n",
        "\n",
        "###   Random sequences of integers in [0-9] range are generated as training data###\n",
        "The function `getSample` below takes a sequence length `seqL` as input and returns a training sample to be fed to the RNN.\n",
        "\n",
        "\n",
        "For a given length `seqL`, a training sample is a 2-tuple of input -$x$ and output -$y$ where\n",
        "\n",
        "* `input` is a tensor of size [`seqLx10`]:<br>\n",
        "\t* Second dimension is 10 since each integer is represented as a one-hot vector of dimension=10 (since we in this case consider only sequence of integers in [0-9]\n",
        "\n",
        "\n",
        "* `output` is just a single number . Its the number at the Kth position which need to be remembered. So $y$ is a tensor with just one element"
      ]
    },
    {
      "cell_type": "code",
      "metadata": {
        "id": "X4h8sdz2a4A8"
      },
      "source": [
        "def getSample(seqL,k,testFlag=False):\n",
        "    #returns a random sequence of integers of length = seqL\n",
        "    kthInt=0\n",
        "    x =  torch.zeros(seqL,10)\n",
        "    for i in range(0,seqL):\n",
        "        randomIntegerNumber = random.randint(0,9)\n",
        "        if i==k-1:\n",
        "            kthInt=randomIntegerNumber\n",
        "        if testFlag:\n",
        "            sys.stdout.write(str(randomIntegerNumber) + ' ')\n",
        "        x[i,randomIntegerNumber-1] = 1\n",
        "\n",
        "    if testFlag:\n",
        "            sys.stdout.write('--> ' + str(kthInt) + '\\n')\n",
        "    x=x.unsqueeze(1) #extra dimension for Batch\n",
        "    y=torch.tensor([kthInt]) #target is the number at kth position in the sequence \n",
        "\n",
        "    return x,y\n",
        "        "
      ],
      "execution_count": null,
      "outputs": []
    },
    {
      "cell_type": "markdown",
      "metadata": {
        "id": "wqQdHLrSa4A-"
      },
      "source": [
        "### Model Input ###\n",
        "As noted above, the inputs are `seqLx10` dimensional tensors, where first row corresponds to the first number in the sequence and last row is for the last number in the sequence. And within a row, the values are zero except for column where $columnIndex == k-1$, where $k$ the position of the number we need to memorize\n",
        "The `input` rows are fed  one-by-one, starting from the top, proceeding all the way to the last row.<br>\n",
        "Hence at each   `timestep` the input to the network is of a dimension=10<br>\n",
        "__Note__: This is not shown explicitly in the provided code, but is done internally. ie, RNN unrolling for a sequence is handled internally, we need not explicity loop through the timesteps.\n",
        "\n",
        "\n",
        "\n",
        "### Model Output  ###\n",
        "At the last timestep, the model should output the number at position $k$. For this purpose we have an output layer of 10 neurons. Each corresponding to integers 0-9. So if the $k^{th}$ integer is say 7, then the 7th neuron should fire the most. Or in other words output of this node should have the maximum value . \n",
        "\n",
        "\n",
        "## Training Loss ##\n",
        "We use the `CrossEntropy Loss'  to compare the predicted value $y_t$, and the target $\\tilde{y_t}$:\n",
        "\n",
        "\n",
        "\n",
        "__Note__: The loss is computed only at the last time step.\n",
        "\n",
        "The image below shows a schematic of the \"unrolled\" RNN in our case. For the ease of visualizing we show only two hidden units. In practice it could be more:\n",
        "\n",
        "In the picture $\\tilde{y_t}$ is [1,0,0,0,0,0,0,0,0,0] since the required number is 0\n",
        "\n",
        "<img src=\"https://github.com/ThrupthiAnn/SummerSchool2021_HandsOn_Aug7/blob/main/RNN/data/KthNo_architecture.jpg?raw=1\" />\n",
        "\n",
        "\n",
        "## Model Implementation ##\n",
        "The following class `Memorize` implements the above RNN. We only give the forward-pass implementation.\n",
        "The backward pass is calcuated automatically by PyTorch's auto-grad.\n",
        "\n",
        "The only parameters passed to the model is the size (dimensionality) of the hidden state.\n",
        "Bigger state, means higher capacity.\n"
      ]
    },
    {
      "cell_type": "code",
      "metadata": {
        "id": "u86-jIDha4BA"
      },
      "source": [
        "class Memorize (nn.Module):\n",
        "    def __init__(self,stateDim):\n",
        "        super(Memorize, self).__init__()\n",
        "        self.stateDim = stateDim\n",
        "        self.inputDim = 10  # integer is represented as 1 hot vector of dimension=10\n",
        "        self.outputDim = 10  # 10 nodes for 10 classes\n",
        "        # currently the model uses the 'LSTM' cell. You could try\n",
        "        # others like: tanh, GRU. See: https://github.com/pytorch/examples/blob/master/word_language_model/model.py#L11\n",
        "        self.lstm = nn.LSTM(self.inputDim, self.stateDim )\n",
        "        self.outputLayer = nn.Linear(self.stateDim, self.outputDim)\n",
        "        self.softmax = nn.Softmax()\n",
        "        \n",
        "\n",
        "    def forward(self, x):\n",
        "        \"\"\"\n",
        "        X: [L,B,inputDim(=10)] dimensional input tensor\n",
        "            L: Sequence length\n",
        "            B: is the \"batch\" dimension. As we are training on \n",
        "               single examples, B = 1 for us.\n",
        "        \"\"\"\n",
        "        lstmOut,_ = self.lstm(x)\n",
        "        L,B,D  = lstmOut.size(0),lstmOut.size(1),lstmOut.size(2) # L is seq len, B is batch size and D is feature dimension\n",
        "        #lstmOut holds the outputs at all timesteps but we require  only the output at last time step (L-1)\n",
        "        lstmOut_lastTimeStep = lstmOut[L-1,0,:]\n",
        "        #print (lstmOut_lastTimeStep.size())\n",
        "        \n",
        "        #lstmOut = lstmOut.view(L*B,D)\n",
        "        outputLayerActivations = self.outputLayer(lstmOut_lastTimeStep)\n",
        "        #outputSoftMax=self.softmax(outputLayerActivations)\n",
        "        # project lstm states to \"output\"\n",
        "        \n",
        "    \n",
        "        return outputLayerActivations.unsqueeze(0)"
      ],
      "execution_count": null,
      "outputs": []
    },
    {
      "cell_type": "markdown",
      "metadata": {
        "id": "Y-YcmzrJa4BE"
      },
      "source": [
        "### Training the Network ###\n",
        "\n",
        "Please see the beginning of the below code snippet, to change $k$ and seqLs of training samples<br>\n",
        "\n",
        "The model is trained on sequencess of lengths in range of `minSeqLength` and `maxSeqLength`\n",
        "\n",
        "For simplicity, training code runs for a fixed number of epochs (or iterations). In practice, the training should be monitored with performance on a held-out or validation set, in order to avoid over-fitting.\n",
        "\n",
        "In the below training code the training runs for `min_epochs` and in each epoch 500 samples (== `iterations`) are fed. And remember that the loss is calculated for each sample and then backprop() is called. This is in contrast to batch learning where weights are updated after feeding in a bacth of samples. In our case there is no batching or batchSize =1\n",
        "\n",
        "We use the [`Adam` optimizer](https://arxiv.org/abs/1412.6980).\n",
        "\n",
        "The model runs fast enough to train on the CPU itself (GPUs are not used).\n",
        "\n",
        "Lets train our first RNN model!"
      ]
    },
    {
      "cell_type": "code",
      "metadata": {
        "id": "juQv09FQa4BH",
        "colab": {
          "base_uri": "https://localhost:8080/",
          "height": 661
        },
        "outputId": "ac06be6c-37e3-4ea7-ef37-03cda8602972"
      },
      "source": [
        "# set here the size of the RNN state:\n",
        "stateSize = 20\n",
        "# set here the size of the binary strings to be used for training:\n",
        "k=2 # we want the RNN to remember the number at 2nd position\n",
        "minSeqLength = 3\n",
        "maxSeqLength = 8\n",
        "\n",
        "## sequenceLengths would be in range in range minSeqLength - maxSeqLength\n",
        "\n",
        "\n",
        "# create the model:\n",
        "model = Memorize(stateSize)\n",
        "print ('Model initialized')\n",
        "\n",
        "# create the loss-function:\n",
        "lossFunction = nn.CrossEntropyLoss() # or nn.CrossEntropyLoss() -- see question #2 below\n",
        "\n",
        "# uncomment below to change the optimizers:\n",
        "#optimizer = optim.SGD(model.parameters(), lr=3e-2, momentum=0.8)\n",
        "optimizer = optim.Adam(model.parameters(),lr=0.01)\n",
        "iterations = 500\n",
        "min_epochs = 20\n",
        "num_epochs,totalLoss = 0,float(\"inf\")\n",
        "lossList = []\n",
        "while num_epochs < min_epochs:\n",
        "    print(\"[epoch %d/%d] Avg. Loss for last 500 samples = %lf\"%(num_epochs+1,min_epochs,totalLoss))\n",
        "    num_epochs += 1\n",
        "    totalLoss = 0\n",
        "    for i in range(0,iterations):\n",
        "        # get a new random training sample:\n",
        "        sequenceLength = random.randint(minSeqLength,maxSeqLength)\n",
        "        x,y = getSample(sequenceLength,k)\n",
        " \n",
        "        model.zero_grad()\n",
        "\n",
        "        pred = model(x)\n",
        "\n",
        "        # compute the loss:\n",
        "        loss = lossFunction(pred,y)\n",
        "        totalLoss += loss.item()\n",
        "        optimizer.zero_grad()\n",
        "        # perform the backward pass:\n",
        "        loss.backward()\n",
        "        # update the weights:\n",
        "        optimizer.step()\n",
        "    totalLoss=totalLoss/iterations\n",
        "    lossList.append(int(totalLoss))\n",
        "print('Training finished!')\n",
        "epochs =  np.arange(1,21)\n",
        "# plot the loss over epcohs:\n",
        "plt.plot(epochs,lossList)\n",
        "plt.xlabel('epochs')\n",
        "plt.ylabel('loss')\n",
        "plt.xticks(epochs,epochs)\n",
        "# plt.ylim([0,5]); \n",
        "plt.show()\n"
      ],
      "execution_count": null,
      "outputs": [
        {
          "output_type": "stream",
          "text": [
            "Model initialized\n",
            "[epoch 1/20] Avg. Loss for last 500 samples = inf\n",
            "[epoch 2/20] Avg. Loss for last 500 samples = 2.240064\n",
            "[epoch 3/20] Avg. Loss for last 500 samples = 2.105440\n",
            "[epoch 4/20] Avg. Loss for last 500 samples = 1.967376\n",
            "[epoch 5/20] Avg. Loss for last 500 samples = 0.542984\n",
            "[epoch 6/20] Avg. Loss for last 500 samples = 0.021714\n",
            "[epoch 7/20] Avg. Loss for last 500 samples = 0.005379\n",
            "[epoch 8/20] Avg. Loss for last 500 samples = 0.002598\n",
            "[epoch 9/20] Avg. Loss for last 500 samples = 0.001682\n",
            "[epoch 10/20] Avg. Loss for last 500 samples = 0.001092\n",
            "[epoch 11/20] Avg. Loss for last 500 samples = 0.000738\n",
            "[epoch 12/20] Avg. Loss for last 500 samples = 0.000551\n",
            "[epoch 13/20] Avg. Loss for last 500 samples = 0.000426\n",
            "[epoch 14/20] Avg. Loss for last 500 samples = 0.028112\n",
            "[epoch 15/20] Avg. Loss for last 500 samples = 0.046421\n",
            "[epoch 16/20] Avg. Loss for last 500 samples = 0.001473\n",
            "[epoch 17/20] Avg. Loss for last 500 samples = 0.000837\n",
            "[epoch 18/20] Avg. Loss for last 500 samples = 0.000475\n",
            "[epoch 19/20] Avg. Loss for last 500 samples = 0.000399\n",
            "[epoch 20/20] Avg. Loss for last 500 samples = 0.000254\n",
            "Training finished!\n"
          ],
          "name": "stdout"
        },
        {
          "output_type": "display_data",
          "data": {
            "image/png": "[encoded data removed]",
            "text/plain": [
              "<Figure size 432x288 with 1 Axes>"
            ]
          },
          "metadata": {
            "tags": [],
            "needs_background": "light"
          }
        }
      ]
    },
    {
      "cell_type": "markdown",
      "metadata": {
        "id": "nMBu0K8qa4BN"
      },
      "source": [
        "## Testing the Model ###\n",
        "Lets feed in a sample sequence and see if the network can output the number at the $k^{th}$ position"
      ]
    },
    {
      "cell_type": "code",
      "metadata": {
        "scrolled": true,
        "id": "Yj5A-db3a4BP",
        "colab": {
          "base_uri": "https://localhost:8080/"
        },
        "outputId": "ffa0dad1-7911-4549-e9ff-049a77e94f63"
      },
      "source": [
        "testSeqL = 6\n",
        "x,y = getSample(testSeqL,k,testFlag=True)\n",
        "\n",
        "pred = model(x)\n",
        "ind=  torch.argmax(pred)\n",
        "print ( 'number at kth position is ',int(ind))"
      ],
      "execution_count": null,
      "outputs": [
        {
          "output_type": "stream",
          "text": [
            "3 3 2 9 2 5 --> 3\n",
            "number at kth position is  3\n"
          ],
          "name": "stdout"
        }
      ]
    },
    {
      "cell_type": "markdown",
      "metadata": {
        "id": "UHSOfKyMa4BQ"
      },
      "source": [
        "__Question 1:__  \n",
        "\n",
        "Above testing code snippet is  only for one sample. Test 500 samples of random seqLens in [3,7] range and compute the average accuracy"
      ]
    },
    {
      "cell_type": "markdown",
      "metadata": {
        "id": "P3cMYboDa4BS"
      },
      "source": [
        "__Question 2:__  Use vanilla RNN instead of the LSTM in the model and do the following\n",
        "  1. plot the epochs vs loss like in the above case when vanilla RNN is used (without changing `k`, `stateSize`, `minSeqL` and `maxSeqL`)\n",
        "  2. Make  `minSeqL` and `maxSeqL` = 10 and  `k`=9 and repeat the experiment with vanilla RNN\n",
        "  3. Make  `minSeqL` and `maxSeqL` = 3 and  `k`=2 and repeat the experiment with vanilla RNN"
      ]
    },
    {
      "cell_type": "markdown",
      "metadata": {
        "id": "be2eVx5Da4BU"
      },
      "source": [
        "__Question 3:__ \n",
        " Train  on fixed sequence lengths and see if it works for shorter and longer sequences\n"
      ]
    },
    {
      "cell_type": "markdown",
      "metadata": {
        "id": "1mLhj5ZMa4BV"
      },
      "source": [
        "__Question 4:__  Try MSE ( Mean Square Error) loss instead of CrossEntropy Loss"
      ]
    },
    {
      "cell_type": "code",
      "metadata": {
        "id": "FknB0bY6a4BV"
      },
      "source": [
        ""
      ],
      "execution_count": null,
      "outputs": []
    },
    {
      "cell_type": "code",
      "metadata": {
        "id": "4O9RW4DZa4BW"
      },
      "source": [
        ""
      ],
      "execution_count": null,
      "outputs": []
    }
  ]
}