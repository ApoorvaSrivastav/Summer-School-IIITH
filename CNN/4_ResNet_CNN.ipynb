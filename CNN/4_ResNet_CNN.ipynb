{
  "nbformat": 4,
  "nbformat_minor": 0,
  "metadata": {
    "kernelspec": {
      "name": "python3",
      "display_name": "Python 3"
    },
    "colab": {
      "name": "4_ResNet_CNN.ipynb",
      "provenance": [],
      "include_colab_link": true
    },
    "language_info": {
      "name": "python"
    },
    "accelerator": "GPU"
  },
  "cells": [
    {
      "cell_type": "markdown",
      "metadata": {
        "id": "view-in-github",
        "colab_type": "text"
      },
      "source": [
        "<a href=\"https://colab.research.google.com/github/ThrupthiAnn/SummerSchool2021_HandsOn_Aug7/blob/main/CNN/4_ResNet_CNN.ipynb\" target=\"_parent\"><img src=\"https://colab.research.google.com/assets/colab-badge.svg\" alt=\"Open In Colab\"/></a>"
      ]
    },
    {
      "cell_type": "markdown",
      "metadata": {
        "collapsed": true,
        "id": "Fmb1aTrUHeYE"
      },
      "source": [
        "## Residual Networks [1]\n",
        "In this tutorial we will implement a resnet block and use it as one of the block for training a CNN on CIFAR dataset. The residual module is shown below:-\n",
        "\n",
        "![resnet](https://github.com/ckraju/summer/blob/main/data/resnet/resnet.png?raw=1)"
      ]
    },
    {
      "cell_type": "code",
      "metadata": {
        "collapsed": true,
        "id": "idEXhPKeHeYH"
      },
      "source": [
        "# Import all libraries\n",
        "import os\n",
        "import argparse\n",
        "import torch\n",
        "import torch.utils.data\n",
        "import torch.nn as nn\n",
        "import torch.optim as optim\n",
        "from torch.autograd import Variable\n",
        "from torchvision import datasets, transforms\n",
        "import numpy as np\n",
        "import matplotlib.pyplot as plt\n",
        "%matplotlib inline"
      ],
      "execution_count": null,
      "outputs": []
    },
    {
      "cell_type": "code",
      "metadata": {
        "collapsed": true,
        "id": "P1Fno-VnHeYJ",
        "colab": {
          "base_uri": "https://localhost:8080/"
        },
        "outputId": "b7cb8d6b-7b1a-406f-91f5-cd577b1b2f34"
      },
      "source": [
        "# Data loader\n",
        "train_loader = torch.utils.data.DataLoader(\n",
        "\tdatasets.CIFAR10('../../data/lab1/imgFolders', train=True, download=True,\n",
        "\t\ttransform=transforms.ToTensor()),\n",
        "\tbatch_size=4, shuffle=True)\n",
        "\n",
        "test_loader = torch.utils.data.DataLoader(\n",
        "\tdatasets.CIFAR10('../../data/lab1/imgFolders', train=False, download=False,\n",
        "\t\ttransform=transforms.ToTensor()),\n",
        "\tbatch_size=4, shuffle=False)\n",
        "\n",
        "num_epoch = 5"
      ],
      "execution_count": null,
      "outputs": [
        {
          "output_type": "stream",
          "text": [
            "Files already downloaded and verified\n"
          ],
          "name": "stdout"
        }
      ]
    },
    {
      "cell_type": "markdown",
      "metadata": {
        "id": "3pKdzElHHeYK"
      },
      "source": [
        "#### Basic ResNet Module"
      ]
    },
    {
      "cell_type": "code",
      "metadata": {
        "collapsed": true,
        "id": "NOMMVYpCHeYL"
      },
      "source": [
        "#Definition of basic residual block which would be replicated\n",
        "class BasicBlock(nn.Module):\n",
        "    def __init__(self, inplanes, planes, stride=1):\n",
        "        super(BasicBlock, self).__init__()\n",
        "        self.conv1 = nn.Conv2d(inplanes, planes, kernel_size=3, stride=stride, padding=1, bias=False)\n",
        "        #batch normalization\n",
        "        self.bn1 = nn.BatchNorm2d(planes)\n",
        "        self.relu = nn.ReLU(inplace=True)\n",
        "        self.conv2 = nn.Conv2d(planes, planes, kernel_size=3, stride=stride, padding=1, bias=False)\n",
        "        self.bn2 = nn.BatchNorm2d(planes)\n",
        "        self.stride = stride\n",
        "\n",
        "    def forward(self, x):\n",
        "        residual = x\n",
        "\n",
        "        out = self.conv1(x)\n",
        "        out = self.bn1(out)\n",
        "        out = self.relu(out)\n",
        "\n",
        "        out = self.conv2(out)\n",
        "        out = self.bn2(out)\n",
        "        \n",
        "        #adding the skip connection\n",
        "        out += residual\n",
        "        out = self.relu(out)\n",
        "\n",
        "        return out\n"
      ],
      "execution_count": null,
      "outputs": []
    },
    {
      "cell_type": "markdown",
      "metadata": {
        "id": "946GWFkrHeYM"
      },
      "source": [
        "### Defining the CNN architecture using ResNet modules"
      ]
    },
    {
      "cell_type": "code",
      "metadata": {
        "collapsed": true,
        "id": "tOcVsgd5HeYN"
      },
      "source": [
        "#Defining the entire CNN architecture using multiple resnet modules\n",
        "class ResNet(nn.Module):\n",
        "    \n",
        "    def __init__(self, block, layers, num_classes=10):\n",
        "        self.input_channels = 64\n",
        "        super(ResNet, self).__init__()\n",
        "        \n",
        "        #Initial non-resnet layers\n",
        "        self.conv1 = nn.Conv2d(3, 64, kernel_size=7, stride=2, padding=3,bias=False) # input ch = 3, output ch = 64 \n",
        "        self.bn1 = nn.BatchNorm2d(64)\n",
        "        self.relu = nn.ReLU(inplace=True)\n",
        "        self.maxpool = nn.MaxPool2d(kernel_size=3, stride=2, padding=1)\n",
        "        \n",
        "        #Creating the resnet modules\n",
        "        self.layer1 = self._make_layer(block, 64, layers[0])\n",
        "        self.fc = nn.Linear(4096, num_classes)\n",
        "    \n",
        "    #Duplicating the resnet module\n",
        "    def _make_layer(self, block, target_output_channels, blocks, stride=1):\n",
        "        layers = []\n",
        "        self.input_channels = target_output_channels\n",
        "        for i in range(0, blocks):\n",
        "            layers.append(block(self.input_channels, target_output_channels))\n",
        "\n",
        "        return nn.Sequential(*layers)\n",
        "    \n",
        "    def forward(self, x):\n",
        "        x = self.conv1(x)\n",
        "        x = self.bn1(x)\n",
        "        x = self.relu(x)\n",
        "        x = self.maxpool(x)\n",
        "        \n",
        "        #attaching the resnet modules\n",
        "        x = self.layer1(x)\n",
        "        x = x.view(x.size(0), -1)\n",
        "        x = self.fc(x)\n",
        "        \n",
        "        return x\n",
        "\n"
      ],
      "execution_count": null,
      "outputs": []
    },
    {
      "cell_type": "code",
      "metadata": {
        "id": "-11TPAJ8HeYP",
        "colab": {
          "base_uri": "https://localhost:8080/"
        },
        "outputId": "07a9331b-3644-4572-a5af-112b9a6e9d0d"
      },
      "source": [
        "model = ResNet(BasicBlock, [2]).cuda()\n",
        "print(model)\n",
        "criterion = nn.CrossEntropyLoss()\n",
        "\n",
        "#Using adam optimizer\n",
        "optimizer = optim.Adam(model.parameters(), lr = 0.0001)"
      ],
      "execution_count": null,
      "outputs": [
        {
          "output_type": "stream",
          "text": [
            "ResNet(\n",
            "  (conv1): Conv2d(3, 64, kernel_size=(7, 7), stride=(2, 2), padding=(3, 3), bias=False)\n",
            "  (bn1): BatchNorm2d(64, eps=1e-05, momentum=0.1, affine=True, track_running_stats=True)\n",
            "  (relu): ReLU(inplace=True)\n",
            "  (maxpool): MaxPool2d(kernel_size=3, stride=2, padding=1, dilation=1, ceil_mode=False)\n",
            "  (layer1): Sequential(\n",
            "    (0): BasicBlock(\n",
            "      (conv1): Conv2d(64, 64, kernel_size=(3, 3), stride=(1, 1), padding=(1, 1), bias=False)\n",
            "      (bn1): BatchNorm2d(64, eps=1e-05, momentum=0.1, affine=True, track_running_stats=True)\n",
            "      (relu): ReLU(inplace=True)\n",
            "      (conv2): Conv2d(64, 64, kernel_size=(3, 3), stride=(1, 1), padding=(1, 1), bias=False)\n",
            "      (bn2): BatchNorm2d(64, eps=1e-05, momentum=0.1, affine=True, track_running_stats=True)\n",
            "    )\n",
            "    (1): BasicBlock(\n",
            "      (conv1): Conv2d(64, 64, kernel_size=(3, 3), stride=(1, 1), padding=(1, 1), bias=False)\n",
            "      (bn1): BatchNorm2d(64, eps=1e-05, momentum=0.1, affine=True, track_running_stats=True)\n",
            "      (relu): ReLU(inplace=True)\n",
            "      (conv2): Conv2d(64, 64, kernel_size=(3, 3), stride=(1, 1), padding=(1, 1), bias=False)\n",
            "      (bn2): BatchNorm2d(64, eps=1e-05, momentum=0.1, affine=True, track_running_stats=True)\n",
            "    )\n",
            "  )\n",
            "  (fc): Linear(in_features=4096, out_features=10, bias=True)\n",
            ")\n"
          ],
          "name": "stdout"
        }
      ]
    },
    {
      "cell_type": "markdown",
      "metadata": {
        "id": "GHeYzV0THeYR"
      },
      "source": [
        "### Training"
      ]
    },
    {
      "cell_type": "code",
      "metadata": {
        "id": "JGh-FpA9HeYS"
      },
      "source": [
        "plotIter = 2000\n",
        "plotIterCntr = 0\n",
        "numEpochs = 1\n",
        "trainLoss = np.zeros((plotIter*numEpochs,1))\n",
        "trainIter = np.arange(plotIter*numEpochs)\n",
        "\n"
      ],
      "execution_count": null,
      "outputs": []
    },
    {
      "cell_type": "code",
      "metadata": {
        "colab": {
          "base_uri": "https://localhost:8080/"
        },
        "id": "IRhK1dPAk_Nm",
        "outputId": "50e942fe-e2ab-436c-9dbe-741810626a76"
      },
      "source": [
        "for epoch in range(numEpochs):  # loop over the dataset multiple times\n",
        "\n",
        "    running_loss = 0.0\n",
        "    for i, data in enumerate(train_loader, 0):\n",
        "        # get the inputs\n",
        "        inputs, labels = data\n",
        "\n",
        "        # wrap them in Variable\n",
        "        inputs, labels = Variable(inputs.cuda()), Variable(labels.cuda())\n",
        "\n",
        "        # zero the parameter gradients\n",
        "        optimizer.zero_grad()\n",
        "\n",
        "        # forward + backward + optimize\n",
        "        outputs = model(inputs)\n",
        "        loss = criterion(outputs, labels)\n",
        "        loss.backward()\n",
        "        optimizer.step()\n",
        "\n",
        "        # print statistics\n",
        "        running_loss += loss.data\n",
        "        if i % plotIter == plotIter-1:    # print every plotIter mini-batches\n",
        "            temp = running_loss / plotIter\n",
        "            trainLoss[plotIterCntr] = temp.cpu()\n",
        "            plotIterCntr+=1\n",
        "            \n",
        "            print('[%d, %5d] loss: %.3f' %\n",
        "                  (epoch + 1, i + 1, running_loss / plotIter))\n",
        "            running_loss = 0.0\n",
        "            \n"
      ],
      "execution_count": null,
      "outputs": [
        {
          "output_type": "stream",
          "text": [
            "[1,  2000] loss: 1.228\n",
            "[1,  4000] loss: 1.154\n",
            "[1,  6000] loss: 1.106\n",
            "[1,  8000] loss: 1.089\n",
            "[1, 10000] loss: 1.067\n",
            "[1, 12000] loss: 1.054\n"
          ],
          "name": "stdout"
        }
      ]
    },
    {
      "cell_type": "code",
      "metadata": {
        "colab": {
          "base_uri": "https://localhost:8080/",
          "height": 296
        },
        "id": "8Qjjn6yGlFu4",
        "outputId": "a24c20b0-adee-4a76-abed-d2033b7d3fd9"
      },
      "source": [
        "plt.plot(np.arange(plotIterCntr)*plotIter,trainLoss[0:plotIterCntr], label=\"train\")\n",
        "plt.xlabel('Iteration')\n",
        "plt.ylabel('Loss')\n",
        "plt.show()\n",
        "\n",
        "print('Finished Training')"
      ],
      "execution_count": null,
      "outputs": [
        {
          "output_type": "display_data",
          "data": {
            "image/png": "[encoded data removed]",
            "text/plain": [
              "<Figure size 432x288 with 1 Axes>"
            ]
          },
          "metadata": {
            "tags": [],
            "needs_background": "light"
          }
        },
        {
          "output_type": "stream",
          "text": [
            "Finished Training\n"
          ],
          "name": "stdout"
        }
      ]
    },
    {
      "cell_type": "markdown",
      "metadata": {
        "id": "7_XZnPenHeYT"
      },
      "source": [
        "#### Testing"
      ]
    },
    {
      "cell_type": "code",
      "metadata": {
        "id": "dICG_TzJHeYT",
        "colab": {
          "base_uri": "https://localhost:8080/"
        },
        "outputId": "653b6b94-a22f-46d5-eb20-26c3198fe8db"
      },
      "source": [
        "## Prediction of accuracy\n",
        "correct = 0\n",
        "total = 0\n",
        "\n",
        "for data in test_loader:\n",
        "    images, labels = data\n",
        "    outputs = model(Variable(images.cuda()))\n",
        "    _, predicted = torch.max(outputs.data, 1)\n",
        "    total += labels.size(0)\n",
        "    labels = labels.cuda()\n",
        "    correct += (predicted == labels).sum()\n",
        "\n",
        "print('Accuracy of the network on the 10000 test images: %d %%' % (\n",
        "    100 * correct / total))"
      ],
      "execution_count": null,
      "outputs": [
        {
          "output_type": "stream",
          "text": [
            "Accuracy of the network on the 10000 test images: 65 %\n"
          ],
          "name": "stdout"
        }
      ]
    },
    {
      "cell_type": "markdown",
      "metadata": {
        "id": "JbBr19HKHeYU"
      },
      "source": [
        "### Self Exercise\n",
        "- Add multiple resnet modules and verify the performance in CIFAR dataset\n",
        "- Create a bottleneck based ResNet module as shown below and validate the training performance:-\n",
        "![resnet-bottleneck](https://github.com/ckraju/summer/blob/main/images/resnet-bottleneck.png?raw=1)"
      ]
    },
    {
      "cell_type": "markdown",
      "metadata": {
        "id": "6mMZHJB5HeYU"
      },
      "source": [
        "### References\n",
        "[1] He et. al., Deep Residual Learning for Image Recognition, arxiv’15 <br>"
      ]
    }
  ]
}
