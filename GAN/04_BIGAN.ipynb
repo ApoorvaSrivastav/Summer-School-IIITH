{
  "nbformat": 4,
  "nbformat_minor": 0,
  "metadata": {
    "kernelspec": {
      "name": "python3",
      "display_name": "Python 3"
    },
    "colab": {
      "name": "04_BIGAN.ipynb",
      "provenance": [],
      "collapsed_sections": [],
      "include_colab_link": true
    },
    "language_info": {
      "name": "python"
    },
    "accelerator": "GPU",
    "widgets": {
      "application/vnd.jupyter.widget-state+json": {
        "60d75cec783c49878670c977961d77c6": {
          "model_module": "@jupyter-widgets/controls",
          "model_name": "HBoxModel",
          "state": {
            "_view_name": "HBoxView",
            "_dom_classes": [],
            "_model_name": "HBoxModel",
            "_view_module": "@jupyter-widgets/controls",
            "_model_module_version": "1.5.0",
            "_view_count": null,
            "_view_module_version": "1.5.0",
            "box_style": "",
            "layout": "IPY_MODEL_5a8ff41f11c14125a22a5a334dd2bd55",
            "_model_module": "@jupyter-widgets/controls",
            "children": [
              "IPY_MODEL_af3f6039e0004077bf4b914b8cae0746",
              "IPY_MODEL_a84e2624be6e4ac58039bf93b24fb14f"
            ]
          }
        },
        "5a8ff41f11c14125a22a5a334dd2bd55": {
          "model_module": "@jupyter-widgets/base",
          "model_name": "LayoutModel",
          "state": {
            "_view_name": "LayoutView",
            "grid_template_rows": null,
            "right": null,
            "justify_content": null,
            "_view_module": "@jupyter-widgets/base",
            "overflow": null,
            "_model_module_version": "1.2.0",
            "_view_count": null,
            "flex_flow": null,
            "width": null,
            "min_width": null,
            "border": null,
            "align_items": null,
            "bottom": null,
            "_model_module": "@jupyter-widgets/base",
            "top": null,
            "grid_column": null,
            "overflow_y": null,
            "overflow_x": null,
            "grid_auto_flow": null,
            "grid_area": null,
            "grid_template_columns": null,
            "flex": null,
            "_model_name": "LayoutModel",
            "justify_items": null,
            "grid_row": null,
            "max_height": null,
            "align_content": null,
            "visibility": null,
            "align_self": null,
            "height": null,
            "min_height": null,
            "padding": null,
            "grid_auto_rows": null,
            "grid_gap": null,
            "max_width": null,
            "order": null,
            "_view_module_version": "1.2.0",
            "grid_template_areas": null,
            "object_position": null,
            "object_fit": null,
            "grid_auto_columns": null,
            "margin": null,
            "display": null,
            "left": null
          }
        },
        "af3f6039e0004077bf4b914b8cae0746": {
          "model_module": "@jupyter-widgets/controls",
          "model_name": "FloatProgressModel",
          "state": {
            "_view_name": "ProgressView",
            "style": "IPY_MODEL_d6faff050ed44be49e4e7581f704ac1a",
            "_dom_classes": [],
            "description": "",
            "_model_name": "FloatProgressModel",
            "bar_style": "success",
            "max": 9912422,
            "_view_module": "@jupyter-widgets/controls",
            "_model_module_version": "1.5.0",
            "value": 9912422,
            "_view_count": null,
            "_view_module_version": "1.5.0",
            "orientation": "horizontal",
            "min": 0,
            "description_tooltip": null,
            "_model_module": "@jupyter-widgets/controls",
            "layout": "IPY_MODEL_4166c78fb71f4d11b8168e87fd0ed60e"
          }
        },
        "a84e2624be6e4ac58039bf93b24fb14f": {
          "model_module": "@jupyter-widgets/controls",
          "model_name": "HTMLModel",
          "state": {
            "_view_name": "HTMLView",
            "style": "IPY_MODEL_b474f1b5834946169596d83bada1d46d",
            "_dom_classes": [],
            "description": "",
            "_model_name": "HTMLModel",
            "placeholder": "​",
            "_view_module": "@jupyter-widgets/controls",
            "_model_module_version": "1.5.0",
            "value": " 9913344/? [00:04&lt;00:00, 2223859.00it/s]",
            "_view_count": null,
            "_view_module_version": "1.5.0",
            "description_tooltip": null,
            "_model_module": "@jupyter-widgets/controls",
            "layout": "IPY_MODEL_c407db7fff7e4fb5b7d32c2e2d12c611"
          }
        },
        "d6faff050ed44be49e4e7581f704ac1a": {
          "model_module": "@jupyter-widgets/controls",
          "model_name": "ProgressStyleModel",
          "state": {
            "_view_name": "StyleView",
            "_model_name": "ProgressStyleModel",
            "description_width": "initial",
            "_view_module": "@jupyter-widgets/base",
            "_model_module_version": "1.5.0",
            "_view_count": null,
            "_view_module_version": "1.2.0",
            "bar_color": null,
            "_model_module": "@jupyter-widgets/controls"
          }
        },
        "4166c78fb71f4d11b8168e87fd0ed60e": {
          "model_module": "@jupyter-widgets/base",
          "model_name": "LayoutModel",
          "state": {
            "_view_name": "LayoutView",
            "grid_template_rows": null,
            "right": null,
            "justify_content": null,
            "_view_module": "@jupyter-widgets/base",
            "overflow": null,
            "_model_module_version": "1.2.0",
            "_view_count": null,
            "flex_flow": null,
            "width": null,
            "min_width": null,
            "border": null,
            "align_items": null,
            "bottom": null,
            "_model_module": "@jupyter-widgets/base",
            "top": null,
            "grid_column": null,
            "overflow_y": null,
            "overflow_x": null,
            "grid_auto_flow": null,
            "grid_area": null,
            "grid_template_columns": null,
            "flex": null,
            "_model_name": "LayoutModel",
            "justify_items": null,
            "grid_row": null,
            "max_height": null,
            "align_content": null,
            "visibility": null,
            "align_self": null,
            "height": null,
            "min_height": null,
            "padding": null,
            "grid_auto_rows": null,
            "grid_gap": null,
            "max_width": null,
            "order": null,
            "_view_module_version": "1.2.0",
            "grid_template_areas": null,
            "object_position": null,
            "object_fit": null,
            "grid_auto_columns": null,
            "margin": null,
            "display": null,
            "left": null
          }
        },
        "b474f1b5834946169596d83bada1d46d": {
          "model_module": "@jupyter-widgets/controls",
          "model_name": "DescriptionStyleModel",
          "state": {
            "_view_name": "StyleView",
            "_model_name": "DescriptionStyleModel",
            "description_width": "",
            "_view_module": "@jupyter-widgets/base",
            "_model_module_version": "1.5.0",
            "_view_count": null,
            "_view_module_version": "1.2.0",
            "_model_module": "@jupyter-widgets/controls"
          }
        },
        "c407db7fff7e4fb5b7d32c2e2d12c611": {
          "model_module": "@jupyter-widgets/base",
          "model_name": "LayoutModel",
          "state": {
            "_view_name": "LayoutView",
            "grid_template_rows": null,
            "right": null,
            "justify_content": null,
            "_view_module": "@jupyter-widgets/base",
            "overflow": null,
            "_model_module_version": "1.2.0",
            "_view_count": null,
            "flex_flow": null,
            "width": null,
            "min_width": null,
            "border": null,
            "align_items": null,
            "bottom": null,
            "_model_module": "@jupyter-widgets/base",
            "top": null,
            "grid_column": null,
            "overflow_y": null,
            "overflow_x": null,
            "grid_auto_flow": null,
            "grid_area": null,
            "grid_template_columns": null,
            "flex": null,
            "_model_name": "LayoutModel",
            "justify_items": null,
            "grid_row": null,
            "max_height": null,
            "align_content": null,
            "visibility": null,
            "align_self": null,
            "height": null,
            "min_height": null,
            "padding": null,
            "grid_auto_rows": null,
            "grid_gap": null,
            "max_width": null,
            "order": null,
            "_view_module_version": "1.2.0",
            "grid_template_areas": null,
            "object_position": null,
            "object_fit": null,
            "grid_auto_columns": null,
            "margin": null,
            "display": null,
            "left": null
          }
        },
        "bb5c74cbbeff4d58b1cf65c8769b7556": {
          "model_module": "@jupyter-widgets/controls",
          "model_name": "HBoxModel",
          "state": {
            "_view_name": "HBoxView",
            "_dom_classes": [],
            "_model_name": "HBoxModel",
            "_view_module": "@jupyter-widgets/controls",
            "_model_module_version": "1.5.0",
            "_view_count": null,
            "_view_module_version": "1.5.0",
            "box_style": "",
            "layout": "IPY_MODEL_7d31d1ccce5c40e2ba441304c1799600",
            "_model_module": "@jupyter-widgets/controls",
            "children": [
              "IPY_MODEL_176d7e6d59374f7eb240b144c0334dbc",
              "IPY_MODEL_45bc87e23eed4ce8aab4a9da390f9012"
            ]
          }
        },
        "7d31d1ccce5c40e2ba441304c1799600": {
          "model_module": "@jupyter-widgets/base",
          "model_name": "LayoutModel",
          "state": {
            "_view_name": "LayoutView",
            "grid_template_rows": null,
            "right": null,
            "justify_content": null,
            "_view_module": "@jupyter-widgets/base",
            "overflow": null,
            "_model_module_version": "1.2.0",
            "_view_count": null,
            "flex_flow": null,
            "width": null,
            "min_width": null,
            "border": null,
            "align_items": null,
            "bottom": null,
            "_model_module": "@jupyter-widgets/base",
            "top": null,
            "grid_column": null,
            "overflow_y": null,
            "overflow_x": null,
            "grid_auto_flow": null,
            "grid_area": null,
            "grid_template_columns": null,
            "flex": null,
            "_model_name": "LayoutModel",
            "justify_items": null,
            "grid_row": null,
            "max_height": null,
            "align_content": null,
            "visibility": null,
            "align_self": null,
            "height": null,
            "min_height": null,
            "padding": null,
            "grid_auto_rows": null,
            "grid_gap": null,
            "max_width": null,
            "order": null,
            "_view_module_version": "1.2.0",
            "grid_template_areas": null,
            "object_position": null,
            "object_fit": null,
            "grid_auto_columns": null,
            "margin": null,
            "display": null,
            "left": null
          }
        },
        "176d7e6d59374f7eb240b144c0334dbc": {
          "model_module": "@jupyter-widgets/controls",
          "model_name": "FloatProgressModel",
          "state": {
            "_view_name": "ProgressView",
            "style": "IPY_MODEL_4c6ea25cc0ff4a6bb76de47e578a672b",
            "_dom_classes": [],
            "description": "",
            "_model_name": "FloatProgressModel",
            "bar_style": "success",
            "max": 28881,
            "_view_module": "@jupyter-widgets/controls",
            "_model_module_version": "1.5.0",
            "value": 28881,
            "_view_count": null,
            "_view_module_version": "1.5.0",
            "orientation": "horizontal",
            "min": 0,
            "description_tooltip": null,
            "_model_module": "@jupyter-widgets/controls",
            "layout": "IPY_MODEL_0e3447f5c6634b77beaea14de50c83cd"
          }
        },
        "45bc87e23eed4ce8aab4a9da390f9012": {
          "model_module": "@jupyter-widgets/controls",
          "model_name": "HTMLModel",
          "state": {
            "_view_name": "HTMLView",
            "style": "IPY_MODEL_0fc1d8e9e88c49e3aba45ae2c85e4288",
            "_dom_classes": [],
            "description": "",
            "_model_name": "HTMLModel",
            "placeholder": "​",
            "_view_module": "@jupyter-widgets/controls",
            "_model_module_version": "1.5.0",
            "value": " 29696/? [00:00&lt;00:00, 144824.90it/s]",
            "_view_count": null,
            "_view_module_version": "1.5.0",
            "description_tooltip": null,
            "_model_module": "@jupyter-widgets/controls",
            "layout": "IPY_MODEL_37128ebd623c4c7d8ca758db92e6fd2a"
          }
        },
        "4c6ea25cc0ff4a6bb76de47e578a672b": {
          "model_module": "@jupyter-widgets/controls",
          "model_name": "ProgressStyleModel",
          "state": {
            "_view_name": "StyleView",
            "_model_name": "ProgressStyleModel",
            "description_width": "initial",
            "_view_module": "@jupyter-widgets/base",
            "_model_module_version": "1.5.0",
            "_view_count": null,
            "_view_module_version": "1.2.0",
            "bar_color": null,
            "_model_module": "@jupyter-widgets/controls"
          }
        },
        "0e3447f5c6634b77beaea14de50c83cd": {
          "model_module": "@jupyter-widgets/base",
          "model_name": "LayoutModel",
          "state": {
            "_view_name": "LayoutView",
            "grid_template_rows": null,
            "right": null,
            "justify_content": null,
            "_view_module": "@jupyter-widgets/base",
            "overflow": null,
            "_model_module_version": "1.2.0",
            "_view_count": null,
            "flex_flow": null,
            "width": null,
            "min_width": null,
            "border": null,
            "align_items": null,
            "bottom": null,
            "_model_module": "@jupyter-widgets/base",
            "top": null,
            "grid_column": null,
            "overflow_y": null,
            "overflow_x": null,
            "grid_auto_flow": null,
            "grid_area": null,
            "grid_template_columns": null,
            "flex": null,
            "_model_name": "LayoutModel",
            "justify_items": null,
            "grid_row": null,
            "max_height": null,
            "align_content": null,
            "visibility": null,
            "align_self": null,
            "height": null,
            "min_height": null,
            "padding": null,
            "grid_auto_rows": null,
            "grid_gap": null,
            "max_width": null,
            "order": null,
            "_view_module_version": "1.2.0",
            "grid_template_areas": null,
            "object_position": null,
            "object_fit": null,
            "grid_auto_columns": null,
            "margin": null,
            "display": null,
            "left": null
          }
        },
        "0fc1d8e9e88c49e3aba45ae2c85e4288": {
          "model_module": "@jupyter-widgets/controls",
          "model_name": "DescriptionStyleModel",
          "state": {
            "_view_name": "StyleView",
            "_model_name": "DescriptionStyleModel",
            "description_width": "",
            "_view_module": "@jupyter-widgets/base",
            "_model_module_version": "1.5.0",
            "_view_count": null,
            "_view_module_version": "1.2.0",
            "_model_module": "@jupyter-widgets/controls"
          }
        },
        "37128ebd623c4c7d8ca758db92e6fd2a": {
          "model_module": "@jupyter-widgets/base",
          "model_name": "LayoutModel",
          "state": {
            "_view_name": "LayoutView",
            "grid_template_rows": null,
            "right": null,
            "justify_content": null,
            "_view_module": "@jupyter-widgets/base",
            "overflow": null,
            "_model_module_version": "1.2.0",
            "_view_count": null,
            "flex_flow": null,
            "width": null,
            "min_width": null,
            "border": null,
            "align_items": null,
            "bottom": null,
            "_model_module": "@jupyter-widgets/base",
            "top": null,
            "grid_column": null,
            "overflow_y": null,
            "overflow_x": null,
            "grid_auto_flow": null,
            "grid_area": null,
            "grid_template_columns": null,
            "flex": null,
            "_model_name": "LayoutModel",
            "justify_items": null,
            "grid_row": null,
            "max_height": null,
            "align_content": null,
            "visibility": null,
            "align_self": null,
            "height": null,
            "min_height": null,
            "padding": null,
            "grid_auto_rows": null,
            "grid_gap": null,
            "max_width": null,
            "order": null,
            "_view_module_version": "1.2.0",
            "grid_template_areas": null,
            "object_position": null,
            "object_fit": null,
            "grid_auto_columns": null,
            "margin": null,
            "display": null,
            "left": null
          }
        },
        "e4847f1958a04de888028717d0826ab2": {
          "model_module": "@jupyter-widgets/controls",
          "model_name": "HBoxModel",
          "state": {
            "_view_name": "HBoxView",
            "_dom_classes": [],
            "_model_name": "HBoxModel",
            "_view_module": "@jupyter-widgets/controls",
            "_model_module_version": "1.5.0",
            "_view_count": null,
            "_view_module_version": "1.5.0",
            "box_style": "",
            "layout": "IPY_MODEL_bc89654c07d24499981abfdafe06e3ea",
            "_model_module": "@jupyter-widgets/controls",
            "children": [
              "IPY_MODEL_1358469497da47ffbb54e76302b7c9a3",
              "IPY_MODEL_1bb0eb1db0b94b6e81e0f1545c1baeca"
            ]
          }
        },
        "bc89654c07d24499981abfdafe06e3ea": {
          "model_module": "@jupyter-widgets/base",
          "model_name": "LayoutModel",
          "state": {
            "_view_name": "LayoutView",
            "grid_template_rows": null,
            "right": null,
            "justify_content": null,
            "_view_module": "@jupyter-widgets/base",
            "overflow": null,
            "_model_module_version": "1.2.0",
            "_view_count": null,
            "flex_flow": null,
            "width": null,
            "min_width": null,
            "border": null,
            "align_items": null,
            "bottom": null,
            "_model_module": "@jupyter-widgets/base",
            "top": null,
            "grid_column": null,
            "overflow_y": null,
            "overflow_x": null,
            "grid_auto_flow": null,
            "grid_area": null,
            "grid_template_columns": null,
            "flex": null,
            "_model_name": "LayoutModel",
            "justify_items": null,
            "grid_row": null,
            "max_height": null,
            "align_content": null,
            "visibility": null,
            "align_self": null,
            "height": null,
            "min_height": null,
            "padding": null,
            "grid_auto_rows": null,
            "grid_gap": null,
            "max_width": null,
            "order": null,
            "_view_module_version": "1.2.0",
            "grid_template_areas": null,
            "object_position": null,
            "object_fit": null,
            "grid_auto_columns": null,
            "margin": null,
            "display": null,
            "left": null
          }
        },
        "1358469497da47ffbb54e76302b7c9a3": {
          "model_module": "@jupyter-widgets/controls",
          "model_name": "FloatProgressModel",
          "state": {
            "_view_name": "ProgressView",
            "style": "IPY_MODEL_69563a3de2e14690a7e0e6ad66a5eb81",
            "_dom_classes": [],
            "description": "",
            "_model_name": "FloatProgressModel",
            "bar_style": "success",
            "max": 1648877,
            "_view_module": "@jupyter-widgets/controls",
            "_model_module_version": "1.5.0",
            "value": 1648877,
            "_view_count": null,
            "_view_module_version": "1.5.0",
            "orientation": "horizontal",
            "min": 0,
            "description_tooltip": null,
            "_model_module": "@jupyter-widgets/controls",
            "layout": "IPY_MODEL_5e18ac74853445aba03cec759763981f"
          }
        },
        "1bb0eb1db0b94b6e81e0f1545c1baeca": {
          "model_module": "@jupyter-widgets/controls",
          "model_name": "HTMLModel",
          "state": {
            "_view_name": "HTMLView",
            "style": "IPY_MODEL_33a17c52bc094888a5796f85cacde3ba",
            "_dom_classes": [],
            "description": "",
            "_model_name": "HTMLModel",
            "placeholder": "​",
            "_view_module": "@jupyter-widgets/controls",
            "_model_module_version": "1.5.0",
            "value": " 1649664/? [00:01&lt;00:00, 1465431.65it/s]",
            "_view_count": null,
            "_view_module_version": "1.5.0",
            "description_tooltip": null,
            "_model_module": "@jupyter-widgets/controls",
            "layout": "IPY_MODEL_82991915846b4dd4bc13a6873c71151b"
          }
        },
        "69563a3de2e14690a7e0e6ad66a5eb81": {
          "model_module": "@jupyter-widgets/controls",
          "model_name": "ProgressStyleModel",
          "state": {
            "_view_name": "StyleView",
            "_model_name": "ProgressStyleModel",
            "description_width": "initial",
            "_view_module": "@jupyter-widgets/base",
            "_model_module_version": "1.5.0",
            "_view_count": null,
            "_view_module_version": "1.2.0",
            "bar_color": null,
            "_model_module": "@jupyter-widgets/controls"
          }
        },
        "5e18ac74853445aba03cec759763981f": {
          "model_module": "@jupyter-widgets/base",
          "model_name": "LayoutModel",
          "state": {
            "_view_name": "LayoutView",
            "grid_template_rows": null,
            "right": null,
            "justify_content": null,
            "_view_module": "@jupyter-widgets/base",
            "overflow": null,
            "_model_module_version": "1.2.0",
            "_view_count": null,
            "flex_flow": null,
            "width": null,
            "min_width": null,
            "border": null,
            "align_items": null,
            "bottom": null,
            "_model_module": "@jupyter-widgets/base",
            "top": null,
            "grid_column": null,
            "overflow_y": null,
            "overflow_x": null,
            "grid_auto_flow": null,
            "grid_area": null,
            "grid_template_columns": null,
            "flex": null,
            "_model_name": "LayoutModel",
            "justify_items": null,
            "grid_row": null,
            "max_height": null,
            "align_content": null,
            "visibility": null,
            "align_self": null,
            "height": null,
            "min_height": null,
            "padding": null,
            "grid_auto_rows": null,
            "grid_gap": null,
            "max_width": null,
            "order": null,
            "_view_module_version": "1.2.0",
            "grid_template_areas": null,
            "object_position": null,
            "object_fit": null,
            "grid_auto_columns": null,
            "margin": null,
            "display": null,
            "left": null
          }
        },
        "33a17c52bc094888a5796f85cacde3ba": {
          "model_module": "@jupyter-widgets/controls",
          "model_name": "DescriptionStyleModel",
          "state": {
            "_view_name": "StyleView",
            "_model_name": "DescriptionStyleModel",
            "description_width": "",
            "_view_module": "@jupyter-widgets/base",
            "_model_module_version": "1.5.0",
            "_view_count": null,
            "_view_module_version": "1.2.0",
            "_model_module": "@jupyter-widgets/controls"
          }
        },
        "82991915846b4dd4bc13a6873c71151b": {
          "model_module": "@jupyter-widgets/base",
          "model_name": "LayoutModel",
          "state": {
            "_view_name": "LayoutView",
            "grid_template_rows": null,
            "right": null,
            "justify_content": null,
            "_view_module": "@jupyter-widgets/base",
            "overflow": null,
            "_model_module_version": "1.2.0",
            "_view_count": null,
            "flex_flow": null,
            "width": null,
            "min_width": null,
            "border": null,
            "align_items": null,
            "bottom": null,
            "_model_module": "@jupyter-widgets/base",
            "top": null,
            "grid_column": null,
            "overflow_y": null,
            "overflow_x": null,
            "grid_auto_flow": null,
            "grid_area": null,
            "grid_template_columns": null,
            "flex": null,
            "_model_name": "LayoutModel",
            "justify_items": null,
            "grid_row": null,
            "max_height": null,
            "align_content": null,
            "visibility": null,
            "align_self": null,
            "height": null,
            "min_height": null,
            "padding": null,
            "grid_auto_rows": null,
            "grid_gap": null,
            "max_width": null,
            "order": null,
            "_view_module_version": "1.2.0",
            "grid_template_areas": null,
            "object_position": null,
            "object_fit": null,
            "grid_auto_columns": null,
            "margin": null,
            "display": null,
            "left": null
          }
        },
        "5ba77829f4ee491c87de827c1f3893b2": {
          "model_module": "@jupyter-widgets/controls",
          "model_name": "HBoxModel",
          "state": {
            "_view_name": "HBoxView",
            "_dom_classes": [],
            "_model_name": "HBoxModel",
            "_view_module": "@jupyter-widgets/controls",
            "_model_module_version": "1.5.0",
            "_view_count": null,
            "_view_module_version": "1.5.0",
            "box_style": "",
            "layout": "IPY_MODEL_e49a425f92eb4181a9c1a89a8b191f8f",
            "_model_module": "@jupyter-widgets/controls",
            "children": [
              "IPY_MODEL_b2d0008596634e778c3c43cc2f023fbb",
              "IPY_MODEL_2731e1547e194b86ba6e931045e21d50"
            ]
          }
        },
        "e49a425f92eb4181a9c1a89a8b191f8f": {
          "model_module": "@jupyter-widgets/base",
          "model_name": "LayoutModel",
          "state": {
            "_view_name": "LayoutView",
            "grid_template_rows": null,
            "right": null,
            "justify_content": null,
            "_view_module": "@jupyter-widgets/base",
            "overflow": null,
            "_model_module_version": "1.2.0",
            "_view_count": null,
            "flex_flow": null,
            "width": null,
            "min_width": null,
            "border": null,
            "align_items": null,
            "bottom": null,
            "_model_module": "@jupyter-widgets/base",
            "top": null,
            "grid_column": null,
            "overflow_y": null,
            "overflow_x": null,
            "grid_auto_flow": null,
            "grid_area": null,
            "grid_template_columns": null,
            "flex": null,
            "_model_name": "LayoutModel",
            "justify_items": null,
            "grid_row": null,
            "max_height": null,
            "align_content": null,
            "visibility": null,
            "align_self": null,
            "height": null,
            "min_height": null,
            "padding": null,
            "grid_auto_rows": null,
            "grid_gap": null,
            "max_width": null,
            "order": null,
            "_view_module_version": "1.2.0",
            "grid_template_areas": null,
            "object_position": null,
            "object_fit": null,
            "grid_auto_columns": null,
            "margin": null,
            "display": null,
            "left": null
          }
        },
        "b2d0008596634e778c3c43cc2f023fbb": {
          "model_module": "@jupyter-widgets/controls",
          "model_name": "FloatProgressModel",
          "state": {
            "_view_name": "ProgressView",
            "style": "IPY_MODEL_2c9973448d1a454189b2312229f0a3a9",
            "_dom_classes": [],
            "description": "",
            "_model_name": "FloatProgressModel",
            "bar_style": "success",
            "max": 4542,
            "_view_module": "@jupyter-widgets/controls",
            "_model_module_version": "1.5.0",
            "value": 4542,
            "_view_count": null,
            "_view_module_version": "1.5.0",
            "orientation": "horizontal",
            "min": 0,
            "description_tooltip": null,
            "_model_module": "@jupyter-widgets/controls",
            "layout": "IPY_MODEL_1a58e273dcfc41b186010e4c0207da13"
          }
        },
        "2731e1547e194b86ba6e931045e21d50": {
          "model_module": "@jupyter-widgets/controls",
          "model_name": "HTMLModel",
          "state": {
            "_view_name": "HTMLView",
            "style": "IPY_MODEL_b00ce8a209ef41149138af5f09ec7959",
            "_dom_classes": [],
            "description": "",
            "_model_name": "HTMLModel",
            "placeholder": "​",
            "_view_module": "@jupyter-widgets/controls",
            "_model_module_version": "1.5.0",
            "value": " 5120/? [00:00&lt;00:00, 25774.33it/s]",
            "_view_count": null,
            "_view_module_version": "1.5.0",
            "description_tooltip": null,
            "_model_module": "@jupyter-widgets/controls",
            "layout": "IPY_MODEL_a94c26ca78e045fd8f7ea2125bd21b82"
          }
        },
        "2c9973448d1a454189b2312229f0a3a9": {
          "model_module": "@jupyter-widgets/controls",
          "model_name": "ProgressStyleModel",
          "state": {
            "_view_name": "StyleView",
            "_model_name": "ProgressStyleModel",
            "description_width": "initial",
            "_view_module": "@jupyter-widgets/base",
            "_model_module_version": "1.5.0",
            "_view_count": null,
            "_view_module_version": "1.2.0",
            "bar_color": null,
            "_model_module": "@jupyter-widgets/controls"
          }
        },
        "1a58e273dcfc41b186010e4c0207da13": {
          "model_module": "@jupyter-widgets/base",
          "model_name": "LayoutModel",
          "state": {
            "_view_name": "LayoutView",
            "grid_template_rows": null,
            "right": null,
            "justify_content": null,
            "_view_module": "@jupyter-widgets/base",
            "overflow": null,
            "_model_module_version": "1.2.0",
            "_view_count": null,
            "flex_flow": null,
            "width": null,
            "min_width": null,
            "border": null,
            "align_items": null,
            "bottom": null,
            "_model_module": "@jupyter-widgets/base",
            "top": null,
            "grid_column": null,
            "overflow_y": null,
            "overflow_x": null,
            "grid_auto_flow": null,
            "grid_area": null,
            "grid_template_columns": null,
            "flex": null,
            "_model_name": "LayoutModel",
            "justify_items": null,
            "grid_row": null,
            "max_height": null,
            "align_content": null,
            "visibility": null,
            "align_self": null,
            "height": null,
            "min_height": null,
            "padding": null,
            "grid_auto_rows": null,
            "grid_gap": null,
            "max_width": null,
            "order": null,
            "_view_module_version": "1.2.0",
            "grid_template_areas": null,
            "object_position": null,
            "object_fit": null,
            "grid_auto_columns": null,
            "margin": null,
            "display": null,
            "left": null
          }
        },
        "b00ce8a209ef41149138af5f09ec7959": {
          "model_module": "@jupyter-widgets/controls",
          "model_name": "DescriptionStyleModel",
          "state": {
            "_view_name": "StyleView",
            "_model_name": "DescriptionStyleModel",
            "description_width": "",
            "_view_module": "@jupyter-widgets/base",
            "_model_module_version": "1.5.0",
            "_view_count": null,
            "_view_module_version": "1.2.0",
            "_model_module": "@jupyter-widgets/controls"
          }
        },
        "a94c26ca78e045fd8f7ea2125bd21b82": {
          "model_module": "@jupyter-widgets/base",
          "model_name": "LayoutModel",
          "state": {
            "_view_name": "LayoutView",
            "grid_template_rows": null,
            "right": null,
            "justify_content": null,
            "_view_module": "@jupyter-widgets/base",
            "overflow": null,
            "_model_module_version": "1.2.0",
            "_view_count": null,
            "flex_flow": null,
            "width": null,
            "min_width": null,
            "border": null,
            "align_items": null,
            "bottom": null,
            "_model_module": "@jupyter-widgets/base",
            "top": null,
            "grid_column": null,
            "overflow_y": null,
            "overflow_x": null,
            "grid_auto_flow": null,
            "grid_area": null,
            "grid_template_columns": null,
            "flex": null,
            "_model_name": "LayoutModel",
            "justify_items": null,
            "grid_row": null,
            "max_height": null,
            "align_content": null,
            "visibility": null,
            "align_self": null,
            "height": null,
            "min_height": null,
            "padding": null,
            "grid_auto_rows": null,
            "grid_gap": null,
            "max_width": null,
            "order": null,
            "_view_module_version": "1.2.0",
            "grid_template_areas": null,
            "object_position": null,
            "object_fit": null,
            "grid_auto_columns": null,
            "margin": null,
            "display": null,
            "left": null
          }
        }
      }
    }
  },
  "cells": [
    {
      "cell_type": "markdown",
      "metadata": {
        "id": "view-in-github",
        "colab_type": "text"
      },
      "source": [
        "<a href=\"https://colab.research.google.com/github/ThrupthiAnn/SummerSchool2021_HandsOn_Aug7/blob/main/GAN/04_BIGAN.ipynb\" target=\"_parent\"><img src=\"https://colab.research.google.com/assets/colab-badge.svg\" alt=\"Open In Colab\"/></a>"
      ]
    },
    {
      "cell_type": "markdown",
      "metadata": {
        "id": "rMNG5oWfSv7z"
      },
      "source": [
        "# Module 4: BiGANs\n",
        "\n",
        "(link to paper: https://arxiv.org/abs/1605.09782)\n",
        "\n",
        "In vanilla GANs, we saw that the generator could generate a wide variety of images, but we had no control over the type of images generated.\n",
        "\n",
        "In C-GAN and AC-GAN, we saw that we can gain some control over the type of images to be generated. \n",
        "\n",
        "BiGAN solves the problem of getting the latent variable given an image. This is the inference problem. BiGANs can be used for feature learning. Here is a diagram of BiGAN:\n",
        "\n",
        "![](BiGAN.png)\n",
        "\n",
        "There are three networks in the BiGAN. The generator network G converts noise input into images. The discriminator network D determines whether the input is real or fake. The encoder network E converts the image back into the latent variable. "
      ]
    },
    {
      "cell_type": "code",
      "metadata": {
        "collapsed": true,
        "id": "DIjvFMLZSv72"
      },
      "source": [
        "import torch\n",
        "import torch.nn\n",
        "import torch.nn.functional as nn\n",
        "import torch.autograd as autograd\n",
        "import torch.optim as optim\n",
        "import numpy as np\n",
        "import matplotlib.pyplot as plt\n",
        "import matplotlib.gridspec as gridspec\n",
        "import os\n",
        "from torch.autograd import Variable\n",
        "from itertools import *\n",
        "%matplotlib inline\n",
        "\n",
        "mb_size = 64\n",
        "z_dim = 10\n",
        "X_dim = 784\n",
        "y_dim = 10\n",
        "h_dim = 128\n",
        "cnt = 0\n",
        "lr = 1e-3\n",
        "\n",
        "\n",
        "def log(x):\n",
        "    return torch.log(x + 1e-8)\n",
        "\n",
        "setcuda = True"
      ],
      "execution_count": 1,
      "outputs": []
    },
    {
      "cell_type": "markdown",
      "metadata": {
        "id": "c8WYi16XSv74"
      },
      "source": [
        "We will use MNIST dataset for this example. This is purely unsupervised, and we do not need to use the labels for this exercise."
      ]
    },
    {
      "cell_type": "code",
      "metadata": {
        "id": "5wAKpwVcSv75",
        "colab": {
          "base_uri": "https://localhost:8080/",
          "height": 1000,
          "referenced_widgets": [
            "60d75cec783c49878670c977961d77c6",
            "5a8ff41f11c14125a22a5a334dd2bd55",
            "af3f6039e0004077bf4b914b8cae0746",
            "a84e2624be6e4ac58039bf93b24fb14f",
            "d6faff050ed44be49e4e7581f704ac1a",
            "4166c78fb71f4d11b8168e87fd0ed60e",
            "b474f1b5834946169596d83bada1d46d",
            "c407db7fff7e4fb5b7d32c2e2d12c611",
            "bb5c74cbbeff4d58b1cf65c8769b7556",
            "7d31d1ccce5c40e2ba441304c1799600",
            "176d7e6d59374f7eb240b144c0334dbc",
            "45bc87e23eed4ce8aab4a9da390f9012",
            "4c6ea25cc0ff4a6bb76de47e578a672b",
            "0e3447f5c6634b77beaea14de50c83cd",
            "0fc1d8e9e88c49e3aba45ae2c85e4288",
            "37128ebd623c4c7d8ca758db92e6fd2a",
            "e4847f1958a04de888028717d0826ab2",
            "bc89654c07d24499981abfdafe06e3ea",
            "1358469497da47ffbb54e76302b7c9a3",
            "1bb0eb1db0b94b6e81e0f1545c1baeca",
            "69563a3de2e14690a7e0e6ad66a5eb81",
            "5e18ac74853445aba03cec759763981f",
            "33a17c52bc094888a5796f85cacde3ba",
            "82991915846b4dd4bc13a6873c71151b",
            "5ba77829f4ee491c87de827c1f3893b2",
            "e49a425f92eb4181a9c1a89a8b191f8f",
            "b2d0008596634e778c3c43cc2f023fbb",
            "2731e1547e194b86ba6e931045e21d50",
            "2c9973448d1a454189b2312229f0a3a9",
            "1a58e273dcfc41b186010e4c0207da13",
            "b00ce8a209ef41149138af5f09ec7959",
            "a94c26ca78e045fd8f7ea2125bd21b82"
          ]
        },
        "outputId": "38f57dc6-d610-48f8-aee2-b3667616962f"
      },
      "source": [
        "# define a transformation to resize the image to 64x64\n",
        "import torchvision\n",
        "import torchvision.transforms as transforms\n",
        "\n",
        "# load the dataset\n",
        "transform = transforms.Compose(\n",
        "    [transforms.ToTensor(),\n",
        "     transforms.Normalize((0,), (1,))])\n",
        "trainset = torchvision.datasets.MNIST(root='./data/', train=True,\n",
        "                                        download=True,transform=transform)\n",
        "trainloader = torch.utils.data.DataLoader(trainset, batch_size=mb_size,\n",
        "                                          shuffle=True, num_workers=2)\n",
        "classes = ('0','1','2','3','4','5','6','7','8','9')\n",
        "\n",
        "def onehotencoder(x):\n",
        "    y = np.zeros((x.numpy().shape[0],10))\n",
        "    for i in range(x.numpy().shape[0]):\n",
        "        y[i,x[i]] = 1\n",
        "    return y\n",
        "\n",
        "dataiter = iter(trainloader)\n",
        "dataiter = iter(trainloader)\n",
        "images, labels = dataiter.next()\n",
        "\n",
        "def mnist_next(dataiter):\n",
        "\n",
        "    try:\n",
        "        images, labels = dataiter.next()\n",
        "        labels = onehotencoder(labels)\n",
        "        images = images.view(images.numpy().shape[0],28*28)\n",
        "    except:\n",
        "        dataiter = iter(trainloader)\n",
        "        images, labels = dataiter.next()\n",
        "        labels = onehotencoder(labels)\n",
        "        images = images.view(images.numpy().shape[0],28*28)\n",
        "    return images.numpy(), labels\n",
        "\n",
        "def initialize_loader(trainset):\n",
        "    trainloader = torch.utils.data.DataLoader(trainset, batch_size=mb_size,\n",
        "                                          shuffle=True, num_workers=2)\n",
        "    dataiter = iter(trainloader)\n",
        "    return dataiter\n",
        "\n",
        "images, labels = mnist_next(dataiter)\n",
        "# print some random training images\n",
        "dataiter = iter(trainloader)\n",
        "images, labels = dataiter.next()\n",
        "img = torchvision.utils.make_grid(images)\n",
        "npimg = img.numpy()\n",
        "plt.imshow(np.transpose(npimg, (1, 2, 0)))"
      ],
      "execution_count": 2,
      "outputs": [
        {
          "output_type": "stream",
          "text": [
            "Downloading http://yann.lecun.com/exdb/mnist/train-images-idx3-ubyte.gz\n",
            "Failed to download (trying next):\n",
            "HTTP Error 503: Service Unavailable\n",
            "\n",
            "Downloading https://ossci-datasets.s3.amazonaws.com/mnist/train-images-idx3-ubyte.gz\n",
            "Downloading https://ossci-datasets.s3.amazonaws.com/mnist/train-images-idx3-ubyte.gz to ./data/MNIST/raw/train-images-idx3-ubyte.gz\n"
          ],
          "name": "stdout"
        },
        {
          "output_type": "display_data",
          "data": {
            "application/vnd.jupyter.widget-view+json": {
              "model_id": "60d75cec783c49878670c977961d77c6",
              "version_minor": 0,
              "version_major": 2
            },
            "text/plain": [
              "HBox(children=(FloatProgress(value=0.0, max=9912422.0), HTML(value='')))"
            ]
          },
          "metadata": {
            "tags": []
          }
        },
        {
          "output_type": "stream",
          "text": [
            "\n",
            "Extracting ./data/MNIST/raw/train-images-idx3-ubyte.gz to ./data/MNIST/raw\n",
            "\n",
            "Downloading http://yann.lecun.com/exdb/mnist/train-labels-idx1-ubyte.gz\n",
            "Failed to download (trying next):\n",
            "HTTP Error 503: Service Unavailable\n",
            "\n",
            "Downloading https://ossci-datasets.s3.amazonaws.com/mnist/train-labels-idx1-ubyte.gz\n",
            "Downloading https://ossci-datasets.s3.amazonaws.com/mnist/train-labels-idx1-ubyte.gz to ./data/MNIST/raw/train-labels-idx1-ubyte.gz\n"
          ],
          "name": "stdout"
        },
        {
          "output_type": "display_data",
          "data": {
            "application/vnd.jupyter.widget-view+json": {
              "model_id": "bb5c74cbbeff4d58b1cf65c8769b7556",
              "version_minor": 0,
              "version_major": 2
            },
            "text/plain": [
              "HBox(children=(FloatProgress(value=0.0, max=28881.0), HTML(value='')))"
            ]
          },
          "metadata": {
            "tags": []
          }
        },
        {
          "output_type": "stream",
          "text": [
            "\n",
            "Extracting ./data/MNIST/raw/train-labels-idx1-ubyte.gz to ./data/MNIST/raw\n",
            "\n",
            "Downloading http://yann.lecun.com/exdb/mnist/t10k-images-idx3-ubyte.gz\n",
            "Downloading http://yann.lecun.com/exdb/mnist/t10k-images-idx3-ubyte.gz to ./data/MNIST/raw/t10k-images-idx3-ubyte.gz\n",
            "Failed to download (trying next):\n",
            "HTTP Error 503: Service Unavailable\n",
            "\n",
            "Downloading https://ossci-datasets.s3.amazonaws.com/mnist/t10k-images-idx3-ubyte.gz\n",
            "Downloading https://ossci-datasets.s3.amazonaws.com/mnist/t10k-images-idx3-ubyte.gz to ./data/MNIST/raw/t10k-images-idx3-ubyte.gz\n"
          ],
          "name": "stdout"
        },
        {
          "output_type": "display_data",
          "data": {
            "application/vnd.jupyter.widget-view+json": {
              "model_id": "e4847f1958a04de888028717d0826ab2",
              "version_minor": 0,
              "version_major": 2
            },
            "text/plain": [
              "HBox(children=(FloatProgress(value=0.0, max=1648877.0), HTML(value='')))"
            ]
          },
          "metadata": {
            "tags": []
          }
        },
        {
          "output_type": "stream",
          "text": [
            "\n",
            "Extracting ./data/MNIST/raw/t10k-images-idx3-ubyte.gz to ./data/MNIST/raw\n",
            "\n",
            "Downloading http://yann.lecun.com/exdb/mnist/t10k-labels-idx1-ubyte.gz\n",
            "Downloading http://yann.lecun.com/exdb/mnist/t10k-labels-idx1-ubyte.gz to ./data/MNIST/raw/t10k-labels-idx1-ubyte.gz\n"
          ],
          "name": "stdout"
        },
        {
          "output_type": "display_data",
          "data": {
            "application/vnd.jupyter.widget-view+json": {
              "model_id": "5ba77829f4ee491c87de827c1f3893b2",
              "version_minor": 0,
              "version_major": 2
            },
            "text/plain": [
              "HBox(children=(FloatProgress(value=0.0, max=4542.0), HTML(value='')))"
            ]
          },
          "metadata": {
            "tags": []
          }
        },
        {
          "output_type": "stream",
          "text": [
            "\n",
            "Extracting ./data/MNIST/raw/t10k-labels-idx1-ubyte.gz to ./data/MNIST/raw\n",
            "\n"
          ],
          "name": "stdout"
        },
        {
          "output_type": "stream",
          "text": [
            "/usr/local/lib/python3.7/dist-packages/torchvision/datasets/mnist.py:498: UserWarning: The given NumPy array is not writeable, and PyTorch does not support non-writeable tensors. This means you can write to the underlying (supposedly non-writeable) NumPy array using the tensor. You may want to copy the array to protect its data or make it writeable before converting it to a tensor. This type of warning will be suppressed for the rest of this program. (Triggered internally at  /pytorch/torch/csrc/utils/tensor_numpy.cpp:180.)\n",
            "  return torch.from_numpy(parsed.astype(m[2], copy=False)).view(*s)\n"
          ],
          "name": "stderr"
        },
        {
          "output_type": "execute_result",
          "data": {
            "text/plain": [
              "<matplotlib.image.AxesImage at 0x7f03a6882ad0>"
            ]
          },
          "metadata": {
            "tags": []
          },
          "execution_count": 2
        },
        {
          "output_type": "display_data",
          "data": {
            "image/png": "[encoded data removed]",
            "text/plain": [
              "<Figure size 432x288 with 1 Axes>"
            ]
          },
          "metadata": {
            "tags": [],
            "needs_background": "light"
          }
        }
      ]
    },
    {
      "cell_type": "markdown",
      "metadata": {
        "id": "gQU7uxV_Sv76"
      },
      "source": [
        "Let us define the three networks, Q(inference network), P(generator network) and D(discriminator network. Note that I am using a class notation for defining Q. This is so that I can get the feature representation if I want. A function getfeature() is defined for this purpose. \n",
        "\n",
        "We use ADAM solver to train BiGAN"
      ]
    },
    {
      "cell_type": "code",
      "metadata": {
        "collapsed": true,
        "id": "PR9FR3dJSv76"
      },
      "source": [
        "# Inference net (Encoder) Q(z|X)\n",
        "# Q = torch.nn.Sequential(\n",
        "#     torch.nn.Linear(X_dim, h_dim),\n",
        "#     torch.nn.ReLU(),\n",
        "#     torch.nn.Linear(h_dim, z_dim)\n",
        "# )\n",
        "\n",
        "class Q_(torch.nn.Module):\n",
        "    def __init__(self):\n",
        "        super(Q_, self).__init__()\n",
        "        self.layer1 = torch.nn.Linear(X_dim, h_dim)\n",
        "        self.layer2 = torch.nn.ReLU()\n",
        "        self.layer3 = torch.nn.Linear(h_dim, z_dim)\n",
        "    \n",
        "    def forward(self, x):\n",
        "        l1 = self.layer1(x)\n",
        "        l2 = self.layer2(l1)\n",
        "        l3 = self.layer3(l2)\n",
        "        return l3\n",
        "    \n",
        "    def getfeature(self, x):\n",
        "        l1 = self.layer1(x)\n",
        "        l2 = self.layer2(l1)\n",
        "        return l2\n",
        "Q = Q_()\n",
        "\n",
        "# Generator net (Decoder) P(X|z)\n",
        "P = torch.nn.Sequential(\n",
        "    torch.nn.Linear(z_dim, h_dim),\n",
        "    torch.nn.ReLU(),\n",
        "    torch.nn.Linear(h_dim, X_dim),\n",
        "    torch.nn.Sigmoid()\n",
        ")\n",
        "\n",
        "D_ = torch.nn.Sequential(\n",
        "    torch.nn.Linear(X_dim + z_dim, h_dim),\n",
        "    torch.nn.ReLU(),\n",
        "    torch.nn.Linear(h_dim, 1),\n",
        "    torch.nn.Sigmoid()\n",
        ")\n",
        "\n",
        "\n",
        "def D(X, z):\n",
        "    return D_(torch.cat([X, z], 1))\n",
        "\n",
        "\n",
        "def reset_grad():\n",
        "    Q.zero_grad()\n",
        "    P.zero_grad()\n",
        "    D_.zero_grad()\n",
        "\n",
        "if setcuda:\n",
        "    Q = Q.cuda()\n",
        "    P = P.cuda()\n",
        "    D_ = D_.cuda()\n",
        "\n",
        "G_solver = optim.Adam(chain(Q.parameters(), P.parameters()), lr=lr)\n",
        "D_solver = optim.Adam(D_.parameters(), lr=lr)\n"
      ],
      "execution_count": 3,
      "outputs": []
    },
    {
      "cell_type": "markdown",
      "metadata": {
        "id": "eJBWXTg1Sv78"
      },
      "source": [
        "Let us train the network. The network is trained in two steps. \n",
        "\n",
        "In the first step, we update the weights of the discriminator. Some real images are passed to the encoder to get the fake latent variables. Some random noise is passed to the generator to get the fake (generated) images. Both of these are passed to the discriminator to get the discriminator loss. This is backpropagated to update the discriminator weight. \n",
        "\n",
        "A similar thing is done for the generator and encoder weights. Note that they are optimized together using 'chain' in the code above."
      ]
    },
    {
      "cell_type": "code",
      "metadata": {
        "id": "AAmAz2iMSv79",
        "colab": {
          "base_uri": "https://localhost:8080/"
        },
        "outputId": "154c1093-1c09-425d-b762-a9baef935d3e"
      },
      "source": [
        "dataiter = initialize_loader(trainset)\n",
        "\n",
        "for it in range(1000):\n",
        "    # Sample data\n",
        "    z = Variable(torch.randn(mb_size, z_dim))\n",
        "    X, _ = mnist_next(dataiter)\n",
        "    if X.shape[0]!=mb_size:\n",
        "        dataiter = initialize_loader(trainset)\n",
        "        X,_ = mnist_next(dataiter)\n",
        "    X = Variable(torch.from_numpy(X))\n",
        "    \n",
        "    if setcuda:\n",
        "        z = z.cuda()\n",
        "        X = X.cuda()\n",
        "\n",
        "    # Discriminator\n",
        "    z_hat = Q(X)\n",
        "    X_hat = P(z)\n",
        "\n",
        "    D_enc = D(X, z_hat)\n",
        "    D_gen = D(X_hat, z)\n",
        "\n",
        "    D_loss = -torch.mean(log(D_enc) + log(1 - D_gen))\n",
        "\n",
        "    D_loss.backward()\n",
        "    D_solver.step()\n",
        "    G_solver.step()\n",
        "    reset_grad()\n",
        "\n",
        "    # Autoencoder Q, P\n",
        "    z_hat = Q(X)\n",
        "    X_hat = P(z)\n",
        "\n",
        "    D_enc = D(X, z_hat)\n",
        "    D_gen = D(X_hat, z)\n",
        "\n",
        "    G_loss = -torch.mean(log(D_gen) + log(1 - D_enc))\n",
        "\n",
        "    G_loss.backward()\n",
        "    G_solver.step()\n",
        "    reset_grad()\n",
        "\n",
        "    # Print and plot every now and then\n",
        "    if it % 1000 == 0:\n",
        "        print('Iter-{}; D_loss: {:.4}; G_loss: {:.4}'\n",
        "              .format(it, D_loss.item(), G_loss.item()))\n",
        "print('Done')"
      ],
      "execution_count": 5,
      "outputs": [
        {
          "output_type": "stream",
          "text": [
            "Iter-0; D_loss: 1.06; G_loss: 2.459\n",
            "Done\n"
          ],
          "name": "stdout"
        }
      ]
    },
    {
      "cell_type": "markdown",
      "metadata": {
        "id": "50yg4lvXSv7-"
      },
      "source": [
        "Let us see the kind of images produced by the generator network:"
      ]
    },
    {
      "cell_type": "code",
      "metadata": {
        "id": "nAz_I-7_Sv8A",
        "colab": {
          "base_uri": "https://localhost:8080/",
          "height": 269
        },
        "outputId": "f046a90f-2376-4e18-a0db-3bba52c5461b"
      },
      "source": [
        "import torchvision\n",
        "\n",
        "z = Variable(torch.randn(mb_size, z_dim))\n",
        "if setcuda:\n",
        "    z = z.cuda()\n",
        "samples = P(z)\n",
        "samples = samples.cpu()\n",
        "img = samples.data\n",
        "img = img.view([mb_size,1,28,28])\n",
        "img = torchvision.utils.make_grid(img)\n",
        "img = img.permute(1,2,0)\n",
        "plt.imshow(img.numpy())\n",
        "plt.show()"
      ],
      "execution_count": 6,
      "outputs": [
        {
          "output_type": "display_data",
          "data": {
            "image/png": "[encoded data removed]",
            "text/plain": [
              "<Figure size 432x288 with 1 Axes>"
            ]
          },
          "metadata": {
            "tags": [],
            "needs_background": "light"
          }
        }
      ]
    },
    {
      "cell_type": "markdown",
      "metadata": {
        "id": "qf4KCnD0Sv8A"
      },
      "source": [
        "Let us see how good the encoder is. First we get some samples from the MNIST dataset. Then we pass it through the encoder network to get the latent encoding. We then pass the latent vector to the generator to see if the generator can get the image we started with. "
      ]
    },
    {
      "cell_type": "code",
      "metadata": {
        "id": "gnXGOMtISv8A",
        "colab": {
          "base_uri": "https://localhost:8080/",
          "height": 521
        },
        "outputId": "c077b6d2-1cfe-4312-afb1-dabd547926ff"
      },
      "source": [
        "img, _ = mnist_next(dataiter)\n",
        "img = torch.from_numpy(img)\n",
        "img1 = img.view(64,1,28,28)\n",
        "img1 = img1.repeat(1,3,1,1)\n",
        "img1 = torchvision.utils.make_grid(img1)\n",
        "img1 = img1.permute(1,2,0)\n",
        "plt.figure()\n",
        "plt.imshow(img1.numpy())\n",
        "if setcuda:\n",
        "    img = img.cuda()\n",
        "encodedvariable = Q(Variable(img))\n",
        "decoded = P(encodedvariable)\n",
        "decoded = decoded.cpu()\n",
        "decoded = decoded.data\n",
        "decoded = decoded.view(64,1,28,28)\n",
        "decoded = decoded.repeat(1,3,1,1)\n",
        "decoded = torchvision.utils.make_grid(decoded)\n",
        "decoded = decoded.permute(1,2,0)\n",
        "\n",
        "plt.figure()\n",
        "plt.imshow(decoded.numpy())\n",
        "plt.show()"
      ],
      "execution_count": 8,
      "outputs": [
        {
          "output_type": "display_data",
          "data": {
            "image/png": "[encoded data removed]",
            "text/plain": [
              "<Figure size 432x288 with 1 Axes>"
            ]
          },
          "metadata": {
            "tags": [],
            "needs_background": "light"
          }
        },
        {
          "output_type": "display_data",
          "data": {
            "image/png": "[encoded data removed]",
            "text/plain": [
              "<Figure size 432x288 with 1 Axes>"
            ]
          },
          "metadata": {
            "tags": [],
            "needs_background": "light"
          }
        }
      ]
    },
    {
      "cell_type": "markdown",
      "metadata": {
        "id": "47cuInDjSv8B"
      },
      "source": [
        "The results will get better with more training.\n",
        "\n",
        "### Questions/Exercises\n",
        "<ol>\n",
        "<li> Can you think of a way to gradually transition (morph) between two images using BiGANs? </li>\n",
        "<li> How can BiGAN be helpful in classification?</li>\n",
        "<li> (On your own time) BiGANs can be used to do image arithmetic! (As shown here: https://github.com/soumith/dcgan.torch scroll down to section 'Vector Arithmetic') Train a BiGAN using a face image dataset. How will you do the vector arithmetic?</li>\n",
        "</ol>"
      ]
    }
  ]
}
