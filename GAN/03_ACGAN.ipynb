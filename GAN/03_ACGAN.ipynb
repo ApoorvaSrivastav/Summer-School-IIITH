{
  "nbformat": 4,
  "nbformat_minor": 0,
  "metadata": {
    "kernelspec": {
      "name": "python3",
      "display_name": "Python 3"
    },
    "colab": {
      "name": "03_ACGAN.ipynb",
      "provenance": [],
      "include_colab_link": true
    },
    "language_info": {
      "name": "python"
    },
    "accelerator": "GPU",
    "widgets": {
      "application/vnd.jupyter.widget-state+json": {
        "dff4a8a70a4e44bfae34eac2a90d6b92": {
          "model_module": "@jupyter-widgets/controls",
          "model_name": "HBoxModel",
          "state": {
            "_view_name": "HBoxView",
            "_dom_classes": [],
            "_model_name": "HBoxModel",
            "_view_module": "@jupyter-widgets/controls",
            "_model_module_version": "1.5.0",
            "_view_count": null,
            "_view_module_version": "1.5.0",
            "box_style": "",
            "layout": "IPY_MODEL_895aa0df82ac4f989a260d772b173989",
            "_model_module": "@jupyter-widgets/controls",
            "children": [
              "IPY_MODEL_bae30b123a3c423aa1632fbc8ea81d6c",
              "IPY_MODEL_be5a01501fd441ab84e2db6ce7628dd5"
            ]
          }
        },
        "895aa0df82ac4f989a260d772b173989": {
          "model_module": "@jupyter-widgets/base",
          "model_name": "LayoutModel",
          "state": {
            "_view_name": "LayoutView",
            "grid_template_rows": null,
            "right": null,
            "justify_content": null,
            "_view_module": "@jupyter-widgets/base",
            "overflow": null,
            "_model_module_version": "1.2.0",
            "_view_count": null,
            "flex_flow": null,
            "width": null,
            "min_width": null,
            "border": null,
            "align_items": null,
            "bottom": null,
            "_model_module": "@jupyter-widgets/base",
            "top": null,
            "grid_column": null,
            "overflow_y": null,
            "overflow_x": null,
            "grid_auto_flow": null,
            "grid_area": null,
            "grid_template_columns": null,
            "flex": null,
            "_model_name": "LayoutModel",
            "justify_items": null,
            "grid_row": null,
            "max_height": null,
            "align_content": null,
            "visibility": null,
            "align_self": null,
            "height": null,
            "min_height": null,
            "padding": null,
            "grid_auto_rows": null,
            "grid_gap": null,
            "max_width": null,
            "order": null,
            "_view_module_version": "1.2.0",
            "grid_template_areas": null,
            "object_position": null,
            "object_fit": null,
            "grid_auto_columns": null,
            "margin": null,
            "display": null,
            "left": null
          }
        },
        "bae30b123a3c423aa1632fbc8ea81d6c": {
          "model_module": "@jupyter-widgets/controls",
          "model_name": "FloatProgressModel",
          "state": {
            "_view_name": "ProgressView",
            "style": "IPY_MODEL_e8f3c626724d48d1bb2aa616b12c8cc6",
            "_dom_classes": [],
            "description": "",
            "_model_name": "FloatProgressModel",
            "bar_style": "success",
            "max": 9912422,
            "_view_module": "@jupyter-widgets/controls",
            "_model_module_version": "1.5.0",
            "value": 9912422,
            "_view_count": null,
            "_view_module_version": "1.5.0",
            "orientation": "horizontal",
            "min": 0,
            "description_tooltip": null,
            "_model_module": "@jupyter-widgets/controls",
            "layout": "IPY_MODEL_fbddf29d75e844e2bb7fec1eeb40f197"
          }
        },
        "be5a01501fd441ab84e2db6ce7628dd5": {
          "model_module": "@jupyter-widgets/controls",
          "model_name": "HTMLModel",
          "state": {
            "_view_name": "HTMLView",
            "style": "IPY_MODEL_15a44dabfcdd4a098fab2e27803b900a",
            "_dom_classes": [],
            "description": "",
            "_model_name": "HTMLModel",
            "placeholder": "​",
            "_view_module": "@jupyter-widgets/controls",
            "_model_module_version": "1.5.0",
            "value": " 9913344/? [05:34&lt;00:00, 29674.11it/s]",
            "_view_count": null,
            "_view_module_version": "1.5.0",
            "description_tooltip": null,
            "_model_module": "@jupyter-widgets/controls",
            "layout": "IPY_MODEL_dbc997f0d48a462ab3c6fdf258785b88"
          }
        },
        "e8f3c626724d48d1bb2aa616b12c8cc6": {
          "model_module": "@jupyter-widgets/controls",
          "model_name": "ProgressStyleModel",
          "state": {
            "_view_name": "StyleView",
            "_model_name": "ProgressStyleModel",
            "description_width": "initial",
            "_view_module": "@jupyter-widgets/base",
            "_model_module_version": "1.5.0",
            "_view_count": null,
            "_view_module_version": "1.2.0",
            "bar_color": null,
            "_model_module": "@jupyter-widgets/controls"
          }
        },
        "fbddf29d75e844e2bb7fec1eeb40f197": {
          "model_module": "@jupyter-widgets/base",
          "model_name": "LayoutModel",
          "state": {
            "_view_name": "LayoutView",
            "grid_template_rows": null,
            "right": null,
            "justify_content": null,
            "_view_module": "@jupyter-widgets/base",
            "overflow": null,
            "_model_module_version": "1.2.0",
            "_view_count": null,
            "flex_flow": null,
            "width": null,
            "min_width": null,
            "border": null,
            "align_items": null,
            "bottom": null,
            "_model_module": "@jupyter-widgets/base",
            "top": null,
            "grid_column": null,
            "overflow_y": null,
            "overflow_x": null,
            "grid_auto_flow": null,
            "grid_area": null,
            "grid_template_columns": null,
            "flex": null,
            "_model_name": "LayoutModel",
            "justify_items": null,
            "grid_row": null,
            "max_height": null,
            "align_content": null,
            "visibility": null,
            "align_self": null,
            "height": null,
            "min_height": null,
            "padding": null,
            "grid_auto_rows": null,
            "grid_gap": null,
            "max_width": null,
            "order": null,
            "_view_module_version": "1.2.0",
            "grid_template_areas": null,
            "object_position": null,
            "object_fit": null,
            "grid_auto_columns": null,
            "margin": null,
            "display": null,
            "left": null
          }
        },
        "15a44dabfcdd4a098fab2e27803b900a": {
          "model_module": "@jupyter-widgets/controls",
          "model_name": "DescriptionStyleModel",
          "state": {
            "_view_name": "StyleView",
            "_model_name": "DescriptionStyleModel",
            "description_width": "",
            "_view_module": "@jupyter-widgets/base",
            "_model_module_version": "1.5.0",
            "_view_count": null,
            "_view_module_version": "1.2.0",
            "_model_module": "@jupyter-widgets/controls"
          }
        },
        "dbc997f0d48a462ab3c6fdf258785b88": {
          "model_module": "@jupyter-widgets/base",
          "model_name": "LayoutModel",
          "state": {
            "_view_name": "LayoutView",
            "grid_template_rows": null,
            "right": null,
            "justify_content": null,
            "_view_module": "@jupyter-widgets/base",
            "overflow": null,
            "_model_module_version": "1.2.0",
            "_view_count": null,
            "flex_flow": null,
            "width": null,
            "min_width": null,
            "border": null,
            "align_items": null,
            "bottom": null,
            "_model_module": "@jupyter-widgets/base",
            "top": null,
            "grid_column": null,
            "overflow_y": null,
            "overflow_x": null,
            "grid_auto_flow": null,
            "grid_area": null,
            "grid_template_columns": null,
            "flex": null,
            "_model_name": "LayoutModel",
            "justify_items": null,
            "grid_row": null,
            "max_height": null,
            "align_content": null,
            "visibility": null,
            "align_self": null,
            "height": null,
            "min_height": null,
            "padding": null,
            "grid_auto_rows": null,
            "grid_gap": null,
            "max_width": null,
            "order": null,
            "_view_module_version": "1.2.0",
            "grid_template_areas": null,
            "object_position": null,
            "object_fit": null,
            "grid_auto_columns": null,
            "margin": null,
            "display": null,
            "left": null
          }
        },
        "5abbbffe2e6e4a5eae3f3bd242abba7a": {
          "model_module": "@jupyter-widgets/controls",
          "model_name": "HBoxModel",
          "state": {
            "_view_name": "HBoxView",
            "_dom_classes": [],
            "_model_name": "HBoxModel",
            "_view_module": "@jupyter-widgets/controls",
            "_model_module_version": "1.5.0",
            "_view_count": null,
            "_view_module_version": "1.5.0",
            "box_style": "",
            "layout": "IPY_MODEL_712c56166d304d05b2933c858c12e176",
            "_model_module": "@jupyter-widgets/controls",
            "children": [
              "IPY_MODEL_3168888be98f4888aa339556e17c9c23",
              "IPY_MODEL_e7a4e47714fa4e83b07178ef05d95228"
            ]
          }
        },
        "712c56166d304d05b2933c858c12e176": {
          "model_module": "@jupyter-widgets/base",
          "model_name": "LayoutModel",
          "state": {
            "_view_name": "LayoutView",
            "grid_template_rows": null,
            "right": null,
            "justify_content": null,
            "_view_module": "@jupyter-widgets/base",
            "overflow": null,
            "_model_module_version": "1.2.0",
            "_view_count": null,
            "flex_flow": null,
            "width": null,
            "min_width": null,
            "border": null,
            "align_items": null,
            "bottom": null,
            "_model_module": "@jupyter-widgets/base",
            "top": null,
            "grid_column": null,
            "overflow_y": null,
            "overflow_x": null,
            "grid_auto_flow": null,
            "grid_area": null,
            "grid_template_columns": null,
            "flex": null,
            "_model_name": "LayoutModel",
            "justify_items": null,
            "grid_row": null,
            "max_height": null,
            "align_content": null,
            "visibility": null,
            "align_self": null,
            "height": null,
            "min_height": null,
            "padding": null,
            "grid_auto_rows": null,
            "grid_gap": null,
            "max_width": null,
            "order": null,
            "_view_module_version": "1.2.0",
            "grid_template_areas": null,
            "object_position": null,
            "object_fit": null,
            "grid_auto_columns": null,
            "margin": null,
            "display": null,
            "left": null
          }
        },
        "3168888be98f4888aa339556e17c9c23": {
          "model_module": "@jupyter-widgets/controls",
          "model_name": "FloatProgressModel",
          "state": {
            "_view_name": "ProgressView",
            "style": "IPY_MODEL_2e58e06d096e4837a4bed99be91402cf",
            "_dom_classes": [],
            "description": "",
            "_model_name": "FloatProgressModel",
            "bar_style": "success",
            "max": 28881,
            "_view_module": "@jupyter-widgets/controls",
            "_model_module_version": "1.5.0",
            "value": 28881,
            "_view_count": null,
            "_view_module_version": "1.5.0",
            "orientation": "horizontal",
            "min": 0,
            "description_tooltip": null,
            "_model_module": "@jupyter-widgets/controls",
            "layout": "IPY_MODEL_5e1faa7631f842ffb5ec12af7698662c"
          }
        },
        "e7a4e47714fa4e83b07178ef05d95228": {
          "model_module": "@jupyter-widgets/controls",
          "model_name": "HTMLModel",
          "state": {
            "_view_name": "HTMLView",
            "style": "IPY_MODEL_c22000c3e79347fcbe9dba1729418ab2",
            "_dom_classes": [],
            "description": "",
            "_model_name": "HTMLModel",
            "placeholder": "​",
            "_view_module": "@jupyter-widgets/controls",
            "_model_module_version": "1.5.0",
            "value": " 29696/? [00:44&lt;00:00, 671.88it/s]",
            "_view_count": null,
            "_view_module_version": "1.5.0",
            "description_tooltip": null,
            "_model_module": "@jupyter-widgets/controls",
            "layout": "IPY_MODEL_05a05d34f2114ff2ba7e5b0001508e8d"
          }
        },
        "2e58e06d096e4837a4bed99be91402cf": {
          "model_module": "@jupyter-widgets/controls",
          "model_name": "ProgressStyleModel",
          "state": {
            "_view_name": "StyleView",
            "_model_name": "ProgressStyleModel",
            "description_width": "initial",
            "_view_module": "@jupyter-widgets/base",
            "_model_module_version": "1.5.0",
            "_view_count": null,
            "_view_module_version": "1.2.0",
            "bar_color": null,
            "_model_module": "@jupyter-widgets/controls"
          }
        },
        "5e1faa7631f842ffb5ec12af7698662c": {
          "model_module": "@jupyter-widgets/base",
          "model_name": "LayoutModel",
          "state": {
            "_view_name": "LayoutView",
            "grid_template_rows": null,
            "right": null,
            "justify_content": null,
            "_view_module": "@jupyter-widgets/base",
            "overflow": null,
            "_model_module_version": "1.2.0",
            "_view_count": null,
            "flex_flow": null,
            "width": null,
            "min_width": null,
            "border": null,
            "align_items": null,
            "bottom": null,
            "_model_module": "@jupyter-widgets/base",
            "top": null,
            "grid_column": null,
            "overflow_y": null,
            "overflow_x": null,
            "grid_auto_flow": null,
            "grid_area": null,
            "grid_template_columns": null,
            "flex": null,
            "_model_name": "LayoutModel",
            "justify_items": null,
            "grid_row": null,
            "max_height": null,
            "align_content": null,
            "visibility": null,
            "align_self": null,
            "height": null,
            "min_height": null,
            "padding": null,
            "grid_auto_rows": null,
            "grid_gap": null,
            "max_width": null,
            "order": null,
            "_view_module_version": "1.2.0",
            "grid_template_areas": null,
            "object_position": null,
            "object_fit": null,
            "grid_auto_columns": null,
            "margin": null,
            "display": null,
            "left": null
          }
        },
        "c22000c3e79347fcbe9dba1729418ab2": {
          "model_module": "@jupyter-widgets/controls",
          "model_name": "DescriptionStyleModel",
          "state": {
            "_view_name": "StyleView",
            "_model_name": "DescriptionStyleModel",
            "description_width": "",
            "_view_module": "@jupyter-widgets/base",
            "_model_module_version": "1.5.0",
            "_view_count": null,
            "_view_module_version": "1.2.0",
            "_model_module": "@jupyter-widgets/controls"
          }
        },
        "05a05d34f2114ff2ba7e5b0001508e8d": {
          "model_module": "@jupyter-widgets/base",
          "model_name": "LayoutModel",
          "state": {
            "_view_name": "LayoutView",
            "grid_template_rows": null,
            "right": null,
            "justify_content": null,
            "_view_module": "@jupyter-widgets/base",
            "overflow": null,
            "_model_module_version": "1.2.0",
            "_view_count": null,
            "flex_flow": null,
            "width": null,
            "min_width": null,
            "border": null,
            "align_items": null,
            "bottom": null,
            "_model_module": "@jupyter-widgets/base",
            "top": null,
            "grid_column": null,
            "overflow_y": null,
            "overflow_x": null,
            "grid_auto_flow": null,
            "grid_area": null,
            "grid_template_columns": null,
            "flex": null,
            "_model_name": "LayoutModel",
            "justify_items": null,
            "grid_row": null,
            "max_height": null,
            "align_content": null,
            "visibility": null,
            "align_self": null,
            "height": null,
            "min_height": null,
            "padding": null,
            "grid_auto_rows": null,
            "grid_gap": null,
            "max_width": null,
            "order": null,
            "_view_module_version": "1.2.0",
            "grid_template_areas": null,
            "object_position": null,
            "object_fit": null,
            "grid_auto_columns": null,
            "margin": null,
            "display": null,
            "left": null
          }
        },
        "72a9931756d74445bc443c176c1ab0ec": {
          "model_module": "@jupyter-widgets/controls",
          "model_name": "HBoxModel",
          "state": {
            "_view_name": "HBoxView",
            "_dom_classes": [],
            "_model_name": "HBoxModel",
            "_view_module": "@jupyter-widgets/controls",
            "_model_module_version": "1.5.0",
            "_view_count": null,
            "_view_module_version": "1.5.0",
            "box_style": "",
            "layout": "IPY_MODEL_abdfcae1fe524f4db919a9bb5d72d023",
            "_model_module": "@jupyter-widgets/controls",
            "children": [
              "IPY_MODEL_9ab36fcc18924e18abb0d88afb66ad1f",
              "IPY_MODEL_5dee23f5b2074299ab7f861dca5b2948"
            ]
          }
        },
        "abdfcae1fe524f4db919a9bb5d72d023": {
          "model_module": "@jupyter-widgets/base",
          "model_name": "LayoutModel",
          "state": {
            "_view_name": "LayoutView",
            "grid_template_rows": null,
            "right": null,
            "justify_content": null,
            "_view_module": "@jupyter-widgets/base",
            "overflow": null,
            "_model_module_version": "1.2.0",
            "_view_count": null,
            "flex_flow": null,
            "width": null,
            "min_width": null,
            "border": null,
            "align_items": null,
            "bottom": null,
            "_model_module": "@jupyter-widgets/base",
            "top": null,
            "grid_column": null,
            "overflow_y": null,
            "overflow_x": null,
            "grid_auto_flow": null,
            "grid_area": null,
            "grid_template_columns": null,
            "flex": null,
            "_model_name": "LayoutModel",
            "justify_items": null,
            "grid_row": null,
            "max_height": null,
            "align_content": null,
            "visibility": null,
            "align_self": null,
            "height": null,
            "min_height": null,
            "padding": null,
            "grid_auto_rows": null,
            "grid_gap": null,
            "max_width": null,
            "order": null,
            "_view_module_version": "1.2.0",
            "grid_template_areas": null,
            "object_position": null,
            "object_fit": null,
            "grid_auto_columns": null,
            "margin": null,
            "display": null,
            "left": null
          }
        },
        "9ab36fcc18924e18abb0d88afb66ad1f": {
          "model_module": "@jupyter-widgets/controls",
          "model_name": "FloatProgressModel",
          "state": {
            "_view_name": "ProgressView",
            "style": "IPY_MODEL_8a2257ed7d914838a12c3b40fd1b36ed",
            "_dom_classes": [],
            "description": "",
            "_model_name": "FloatProgressModel",
            "bar_style": "success",
            "max": 1648877,
            "_view_module": "@jupyter-widgets/controls",
            "_model_module_version": "1.5.0",
            "value": 1648877,
            "_view_count": null,
            "_view_module_version": "1.5.0",
            "orientation": "horizontal",
            "min": 0,
            "description_tooltip": null,
            "_model_module": "@jupyter-widgets/controls",
            "layout": "IPY_MODEL_8401172f2783475c99a6055ec72dc975"
          }
        },
        "5dee23f5b2074299ab7f861dca5b2948": {
          "model_module": "@jupyter-widgets/controls",
          "model_name": "HTMLModel",
          "state": {
            "_view_name": "HTMLView",
            "style": "IPY_MODEL_e834f3eba3eb48c8a843b3e3c0d54104",
            "_dom_classes": [],
            "description": "",
            "_model_name": "HTMLModel",
            "placeholder": "​",
            "_view_module": "@jupyter-widgets/controls",
            "_model_module_version": "1.5.0",
            "value": " 1649664/? [00:43&lt;00:00, 37919.94it/s]",
            "_view_count": null,
            "_view_module_version": "1.5.0",
            "description_tooltip": null,
            "_model_module": "@jupyter-widgets/controls",
            "layout": "IPY_MODEL_c39f0573175f4e15b8f0eb179cd18191"
          }
        },
        "8a2257ed7d914838a12c3b40fd1b36ed": {
          "model_module": "@jupyter-widgets/controls",
          "model_name": "ProgressStyleModel",
          "state": {
            "_view_name": "StyleView",
            "_model_name": "ProgressStyleModel",
            "description_width": "initial",
            "_view_module": "@jupyter-widgets/base",
            "_model_module_version": "1.5.0",
            "_view_count": null,
            "_view_module_version": "1.2.0",
            "bar_color": null,
            "_model_module": "@jupyter-widgets/controls"
          }
        },
        "8401172f2783475c99a6055ec72dc975": {
          "model_module": "@jupyter-widgets/base",
          "model_name": "LayoutModel",
          "state": {
            "_view_name": "LayoutView",
            "grid_template_rows": null,
            "right": null,
            "justify_content": null,
            "_view_module": "@jupyter-widgets/base",
            "overflow": null,
            "_model_module_version": "1.2.0",
            "_view_count": null,
            "flex_flow": null,
            "width": null,
            "min_width": null,
            "border": null,
            "align_items": null,
            "bottom": null,
            "_model_module": "@jupyter-widgets/base",
            "top": null,
            "grid_column": null,
            "overflow_y": null,
            "overflow_x": null,
            "grid_auto_flow": null,
            "grid_area": null,
            "grid_template_columns": null,
            "flex": null,
            "_model_name": "LayoutModel",
            "justify_items": null,
            "grid_row": null,
            "max_height": null,
            "align_content": null,
            "visibility": null,
            "align_self": null,
            "height": null,
            "min_height": null,
            "padding": null,
            "grid_auto_rows": null,
            "grid_gap": null,
            "max_width": null,
            "order": null,
            "_view_module_version": "1.2.0",
            "grid_template_areas": null,
            "object_position": null,
            "object_fit": null,
            "grid_auto_columns": null,
            "margin": null,
            "display": null,
            "left": null
          }
        },
        "e834f3eba3eb48c8a843b3e3c0d54104": {
          "model_module": "@jupyter-widgets/controls",
          "model_name": "DescriptionStyleModel",
          "state": {
            "_view_name": "StyleView",
            "_model_name": "DescriptionStyleModel",
            "description_width": "",
            "_view_module": "@jupyter-widgets/base",
            "_model_module_version": "1.5.0",
            "_view_count": null,
            "_view_module_version": "1.2.0",
            "_model_module": "@jupyter-widgets/controls"
          }
        },
        "c39f0573175f4e15b8f0eb179cd18191": {
          "model_module": "@jupyter-widgets/base",
          "model_name": "LayoutModel",
          "state": {
            "_view_name": "LayoutView",
            "grid_template_rows": null,
            "right": null,
            "justify_content": null,
            "_view_module": "@jupyter-widgets/base",
            "overflow": null,
            "_model_module_version": "1.2.0",
            "_view_count": null,
            "flex_flow": null,
            "width": null,
            "min_width": null,
            "border": null,
            "align_items": null,
            "bottom": null,
            "_model_module": "@jupyter-widgets/base",
            "top": null,
            "grid_column": null,
            "overflow_y": null,
            "overflow_x": null,
            "grid_auto_flow": null,
            "grid_area": null,
            "grid_template_columns": null,
            "flex": null,
            "_model_name": "LayoutModel",
            "justify_items": null,
            "grid_row": null,
            "max_height": null,
            "align_content": null,
            "visibility": null,
            "align_self": null,
            "height": null,
            "min_height": null,
            "padding": null,
            "grid_auto_rows": null,
            "grid_gap": null,
            "max_width": null,
            "order": null,
            "_view_module_version": "1.2.0",
            "grid_template_areas": null,
            "object_position": null,
            "object_fit": null,
            "grid_auto_columns": null,
            "margin": null,
            "display": null,
            "left": null
          }
        },
        "23fb01b764c242eabd7346bee0fcfa29": {
          "model_module": "@jupyter-widgets/controls",
          "model_name": "HBoxModel",
          "state": {
            "_view_name": "HBoxView",
            "_dom_classes": [],
            "_model_name": "HBoxModel",
            "_view_module": "@jupyter-widgets/controls",
            "_model_module_version": "1.5.0",
            "_view_count": null,
            "_view_module_version": "1.5.0",
            "box_style": "",
            "layout": "IPY_MODEL_03cd2de0e5d04bcab8bd86eb18acc053",
            "_model_module": "@jupyter-widgets/controls",
            "children": [
              "IPY_MODEL_bcfed1963b4f4570b9a205e854ec53d4",
              "IPY_MODEL_8d27e9b2e6e346b5be2119f2ede408f6"
            ]
          }
        },
        "03cd2de0e5d04bcab8bd86eb18acc053": {
          "model_module": "@jupyter-widgets/base",
          "model_name": "LayoutModel",
          "state": {
            "_view_name": "LayoutView",
            "grid_template_rows": null,
            "right": null,
            "justify_content": null,
            "_view_module": "@jupyter-widgets/base",
            "overflow": null,
            "_model_module_version": "1.2.0",
            "_view_count": null,
            "flex_flow": null,
            "width": null,
            "min_width": null,
            "border": null,
            "align_items": null,
            "bottom": null,
            "_model_module": "@jupyter-widgets/base",
            "top": null,
            "grid_column": null,
            "overflow_y": null,
            "overflow_x": null,
            "grid_auto_flow": null,
            "grid_area": null,
            "grid_template_columns": null,
            "flex": null,
            "_model_name": "LayoutModel",
            "justify_items": null,
            "grid_row": null,
            "max_height": null,
            "align_content": null,
            "visibility": null,
            "align_self": null,
            "height": null,
            "min_height": null,
            "padding": null,
            "grid_auto_rows": null,
            "grid_gap": null,
            "max_width": null,
            "order": null,
            "_view_module_version": "1.2.0",
            "grid_template_areas": null,
            "object_position": null,
            "object_fit": null,
            "grid_auto_columns": null,
            "margin": null,
            "display": null,
            "left": null
          }
        },
        "bcfed1963b4f4570b9a205e854ec53d4": {
          "model_module": "@jupyter-widgets/controls",
          "model_name": "FloatProgressModel",
          "state": {
            "_view_name": "ProgressView",
            "style": "IPY_MODEL_fc355c3949f048cf88cabc6e7e8c7ef4",
            "_dom_classes": [],
            "description": "",
            "_model_name": "FloatProgressModel",
            "bar_style": "success",
            "max": 4542,
            "_view_module": "@jupyter-widgets/controls",
            "_model_module_version": "1.5.0",
            "value": 4542,
            "_view_count": null,
            "_view_module_version": "1.5.0",
            "orientation": "horizontal",
            "min": 0,
            "description_tooltip": null,
            "_model_module": "@jupyter-widgets/controls",
            "layout": "IPY_MODEL_f73d65c5623c428aab50742ea8bb7e0f"
          }
        },
        "8d27e9b2e6e346b5be2119f2ede408f6": {
          "model_module": "@jupyter-widgets/controls",
          "model_name": "HTMLModel",
          "state": {
            "_view_name": "HTMLView",
            "style": "IPY_MODEL_94dda37c494f450183c88692b06c1dc4",
            "_dom_classes": [],
            "description": "",
            "_model_name": "HTMLModel",
            "placeholder": "​",
            "_view_module": "@jupyter-widgets/controls",
            "_model_module_version": "1.5.0",
            "value": " 5120/? [00:00&lt;00:00, 28803.17it/s]",
            "_view_count": null,
            "_view_module_version": "1.5.0",
            "description_tooltip": null,
            "_model_module": "@jupyter-widgets/controls",
            "layout": "IPY_MODEL_e5df7d48d2154dfbab5eb9eec2d6ba6a"
          }
        },
        "fc355c3949f048cf88cabc6e7e8c7ef4": {
          "model_module": "@jupyter-widgets/controls",
          "model_name": "ProgressStyleModel",
          "state": {
            "_view_name": "StyleView",
            "_model_name": "ProgressStyleModel",
            "description_width": "initial",
            "_view_module": "@jupyter-widgets/base",
            "_model_module_version": "1.5.0",
            "_view_count": null,
            "_view_module_version": "1.2.0",
            "bar_color": null,
            "_model_module": "@jupyter-widgets/controls"
          }
        },
        "f73d65c5623c428aab50742ea8bb7e0f": {
          "model_module": "@jupyter-widgets/base",
          "model_name": "LayoutModel",
          "state": {
            "_view_name": "LayoutView",
            "grid_template_rows": null,
            "right": null,
            "justify_content": null,
            "_view_module": "@jupyter-widgets/base",
            "overflow": null,
            "_model_module_version": "1.2.0",
            "_view_count": null,
            "flex_flow": null,
            "width": null,
            "min_width": null,
            "border": null,
            "align_items": null,
            "bottom": null,
            "_model_module": "@jupyter-widgets/base",
            "top": null,
            "grid_column": null,
            "overflow_y": null,
            "overflow_x": null,
            "grid_auto_flow": null,
            "grid_area": null,
            "grid_template_columns": null,
            "flex": null,
            "_model_name": "LayoutModel",
            "justify_items": null,
            "grid_row": null,
            "max_height": null,
            "align_content": null,
            "visibility": null,
            "align_self": null,
            "height": null,
            "min_height": null,
            "padding": null,
            "grid_auto_rows": null,
            "grid_gap": null,
            "max_width": null,
            "order": null,
            "_view_module_version": "1.2.0",
            "grid_template_areas": null,
            "object_position": null,
            "object_fit": null,
            "grid_auto_columns": null,
            "margin": null,
            "display": null,
            "left": null
          }
        },
        "94dda37c494f450183c88692b06c1dc4": {
          "model_module": "@jupyter-widgets/controls",
          "model_name": "DescriptionStyleModel",
          "state": {
            "_view_name": "StyleView",
            "_model_name": "DescriptionStyleModel",
            "description_width": "",
            "_view_module": "@jupyter-widgets/base",
            "_model_module_version": "1.5.0",
            "_view_count": null,
            "_view_module_version": "1.2.0",
            "_model_module": "@jupyter-widgets/controls"
          }
        },
        "e5df7d48d2154dfbab5eb9eec2d6ba6a": {
          "model_module": "@jupyter-widgets/base",
          "model_name": "LayoutModel",
          "state": {
            "_view_name": "LayoutView",
            "grid_template_rows": null,
            "right": null,
            "justify_content": null,
            "_view_module": "@jupyter-widgets/base",
            "overflow": null,
            "_model_module_version": "1.2.0",
            "_view_count": null,
            "flex_flow": null,
            "width": null,
            "min_width": null,
            "border": null,
            "align_items": null,
            "bottom": null,
            "_model_module": "@jupyter-widgets/base",
            "top": null,
            "grid_column": null,
            "overflow_y": null,
            "overflow_x": null,
            "grid_auto_flow": null,
            "grid_area": null,
            "grid_template_columns": null,
            "flex": null,
            "_model_name": "LayoutModel",
            "justify_items": null,
            "grid_row": null,
            "max_height": null,
            "align_content": null,
            "visibility": null,
            "align_self": null,
            "height": null,
            "min_height": null,
            "padding": null,
            "grid_auto_rows": null,
            "grid_gap": null,
            "max_width": null,
            "order": null,
            "_view_module_version": "1.2.0",
            "grid_template_areas": null,
            "object_position": null,
            "object_fit": null,
            "grid_auto_columns": null,
            "margin": null,
            "display": null,
            "left": null
          }
        }
      }
    }
  },
  "cells": [
    {
      "cell_type": "markdown",
      "metadata": {
        "id": "view-in-github",
        "colab_type": "text"
      },
      "source": [
        "<a href=\"https://colab.research.google.com/github/ThrupthiAnn/SummerSchool2021_HandsOn_Aug7/blob/main/GAN/03_ACGAN.ipynb\" target=\"_parent\"><img src=\"https://colab.research.google.com/assets/colab-badge.svg\" alt=\"Open In Colab\"/></a>"
      ]
    },
    {
      "cell_type": "markdown",
      "metadata": {
        "id": "2HaSFeFVSnpC"
      },
      "source": [
        "# Module 3: Auxiliary Classifier GANs\n",
        "\n",
        "(Link to paper: https://arxiv.org/abs/1610.09585)\n",
        "\n",
        "Auxiliary Classifier GANs are supervised networks for generating images. They are quite similar to C-GANs. The difference is in the discriminator. Instead of passing the conditional variable as input, the discriminator is made to predict the conditonal variable, along with the adversarial real vs. fake.\n",
        "\n",
        "![](ACGAN.PNG)\n",
        "\n",
        "The paper claims that this set-up jproduces 128 × 128 resolution image samples exhibiting global coherence and structure (This is a problem with earlier GANs). However, as we are using the MNIST dataset, we will not be able to see this in action."
      ]
    },
    {
      "cell_type": "code",
      "metadata": {
        "collapsed": true,
        "id": "RqfeUPcWSnpG"
      },
      "source": [
        "import torch\n",
        "import torch.nn.functional as nn\n",
        "import torch.autograd as autograd\n",
        "import torch.optim as optim\n",
        "import numpy as np\n",
        "import matplotlib.pyplot as plt\n",
        "import matplotlib.gridspec as gridspec\n",
        "import os\n",
        "from torch.autograd import Variable\n",
        "%matplotlib inline\n",
        "\n",
        "mb_size = 32\n",
        "z_dim = 16\n",
        "X_dim = 784\n",
        "y_dim = 10\n",
        "h_dim = 128\n",
        "cnt = 0\n",
        "lr = 1e-3\n",
        "eps = 1e-8\n",
        "\n",
        "setcuda = True"
      ],
      "execution_count": 1,
      "outputs": []
    },
    {
      "cell_type": "markdown",
      "metadata": {
        "id": "gaSIcwm_SnpI"
      },
      "source": [
        "We will use one-hot encoding similar to conditonal GANs. Here, we load the MNIST dataset."
      ]
    },
    {
      "cell_type": "code",
      "metadata": {
        "id": "7j47ErA8SnpJ",
        "colab": {
          "base_uri": "https://localhost:8080/",
          "height": 754,
          "referenced_widgets": [
            "dff4a8a70a4e44bfae34eac2a90d6b92",
            "895aa0df82ac4f989a260d772b173989",
            "bae30b123a3c423aa1632fbc8ea81d6c",
            "be5a01501fd441ab84e2db6ce7628dd5",
            "e8f3c626724d48d1bb2aa616b12c8cc6",
            "fbddf29d75e844e2bb7fec1eeb40f197",
            "15a44dabfcdd4a098fab2e27803b900a",
            "dbc997f0d48a462ab3c6fdf258785b88",
            "5abbbffe2e6e4a5eae3f3bd242abba7a",
            "712c56166d304d05b2933c858c12e176",
            "3168888be98f4888aa339556e17c9c23",
            "e7a4e47714fa4e83b07178ef05d95228",
            "2e58e06d096e4837a4bed99be91402cf",
            "5e1faa7631f842ffb5ec12af7698662c",
            "c22000c3e79347fcbe9dba1729418ab2",
            "05a05d34f2114ff2ba7e5b0001508e8d",
            "72a9931756d74445bc443c176c1ab0ec",
            "abdfcae1fe524f4db919a9bb5d72d023",
            "9ab36fcc18924e18abb0d88afb66ad1f",
            "5dee23f5b2074299ab7f861dca5b2948",
            "8a2257ed7d914838a12c3b40fd1b36ed",
            "8401172f2783475c99a6055ec72dc975",
            "e834f3eba3eb48c8a843b3e3c0d54104",
            "c39f0573175f4e15b8f0eb179cd18191",
            "23fb01b764c242eabd7346bee0fcfa29",
            "03cd2de0e5d04bcab8bd86eb18acc053",
            "bcfed1963b4f4570b9a205e854ec53d4",
            "8d27e9b2e6e346b5be2119f2ede408f6",
            "fc355c3949f048cf88cabc6e7e8c7ef4",
            "f73d65c5623c428aab50742ea8bb7e0f",
            "94dda37c494f450183c88692b06c1dc4",
            "e5df7d48d2154dfbab5eb9eec2d6ba6a"
          ]
        },
        "outputId": "19529b9f-2223-4e8a-c206-c07cacec856c"
      },
      "source": [
        "import torchvision.transforms as transforms\n",
        "import torchvision\n",
        "\n",
        "# load the dataset\n",
        "transform = transforms.Compose(\n",
        "    [transforms.ToTensor(),\n",
        "     transforms.Normalize((0,), (1,))])\n",
        "trainset = torchvision.datasets.MNIST(root='./data/', train=True,\n",
        "                                        download=True,transform=transform)\n",
        "trainloader = torch.utils.data.DataLoader(trainset, batch_size=mb_size,\n",
        "                                          shuffle=True, num_workers=2)\n",
        "classes = ('0','1','2','3','4','5','6','7','8','9')\n",
        "\n",
        "def onehotencoder(x):\n",
        "    y = np.zeros((x.numpy().shape[0],10))\n",
        "    for i in range(x.numpy().shape[0]):\n",
        "        y[i,x[i]] = 1\n",
        "    return y\n",
        "\n",
        "dataiter = iter(trainloader)\n",
        "images, labels = dataiter.next()\n",
        "import pdb\n",
        "def mnist_next(dataiter):\n",
        "\n",
        "    try:\n",
        "        images, labels = dataiter.next()\n",
        "        labels = onehotencoder(labels)\n",
        "        images = images.view(images.numpy().shape[0],28*28)\n",
        "    except:\n",
        "        dataiter = iter(trainloader)\n",
        "        images, labels = dataiter.next()\n",
        "        labels = onehotencoder(labels)\n",
        "        images = images.view(images.numpy().shape[0],28*28)\n",
        "    return images.numpy(), labels\n",
        "\n",
        "def initialize_loader(trainset):\n",
        "    trainloader = torch.utils.data.DataLoader(trainset, batch_size=mb_size,\n",
        "                                          shuffle=True, num_workers=2)\n",
        "    dataiter = iter(trainloader)\n",
        "    return dataiter\n",
        "\n",
        "images, labels = mnist_next(dataiter)\n",
        "# print some random training images\n",
        "dataiter = iter(trainloader)\n",
        "images, labels = dataiter.next()\n",
        "img = torchvision.utils.make_grid(images)\n",
        "npimg = img.numpy()\n",
        "plt.imshow(np.transpose(npimg, (1, 2, 0)))\n",
        "plt.show()"
      ],
      "execution_count": 2,
      "outputs": [
        {
          "output_type": "stream",
          "text": [
            "Downloading http://yann.lecun.com/exdb/mnist/train-images-idx3-ubyte.gz\n",
            "Downloading http://yann.lecun.com/exdb/mnist/train-images-idx3-ubyte.gz to ./data/MNIST/raw/train-images-idx3-ubyte.gz\n"
          ],
          "name": "stdout"
        },
        {
          "output_type": "display_data",
          "data": {
            "application/vnd.jupyter.widget-view+json": {
              "model_id": "dff4a8a70a4e44bfae34eac2a90d6b92",
              "version_minor": 0,
              "version_major": 2
            },
            "text/plain": [
              "HBox(children=(FloatProgress(value=0.0, max=9912422.0), HTML(value='')))"
            ]
          },
          "metadata": {
            "tags": []
          }
        },
        {
          "output_type": "stream",
          "text": [
            "\n",
            "Extracting ./data/MNIST/raw/train-images-idx3-ubyte.gz to ./data/MNIST/raw\n",
            "\n",
            "Downloading http://yann.lecun.com/exdb/mnist/train-labels-idx1-ubyte.gz\n",
            "Downloading http://yann.lecun.com/exdb/mnist/train-labels-idx1-ubyte.gz to ./data/MNIST/raw/train-labels-idx1-ubyte.gz\n"
          ],
          "name": "stdout"
        },
        {
          "output_type": "display_data",
          "data": {
            "application/vnd.jupyter.widget-view+json": {
              "model_id": "5abbbffe2e6e4a5eae3f3bd242abba7a",
              "version_minor": 0,
              "version_major": 2
            },
            "text/plain": [
              "HBox(children=(FloatProgress(value=0.0, max=28881.0), HTML(value='')))"
            ]
          },
          "metadata": {
            "tags": []
          }
        },
        {
          "output_type": "stream",
          "text": [
            "\n",
            "Extracting ./data/MNIST/raw/train-labels-idx1-ubyte.gz to ./data/MNIST/raw\n",
            "\n",
            "Downloading http://yann.lecun.com/exdb/mnist/t10k-images-idx3-ubyte.gz\n",
            "Downloading http://yann.lecun.com/exdb/mnist/t10k-images-idx3-ubyte.gz to ./data/MNIST/raw/t10k-images-idx3-ubyte.gz\n"
          ],
          "name": "stdout"
        },
        {
          "output_type": "display_data",
          "data": {
            "application/vnd.jupyter.widget-view+json": {
              "model_id": "72a9931756d74445bc443c176c1ab0ec",
              "version_minor": 0,
              "version_major": 2
            },
            "text/plain": [
              "HBox(children=(FloatProgress(value=0.0, max=1648877.0), HTML(value='')))"
            ]
          },
          "metadata": {
            "tags": []
          }
        },
        {
          "output_type": "stream",
          "text": [
            "\n",
            "Extracting ./data/MNIST/raw/t10k-images-idx3-ubyte.gz to ./data/MNIST/raw\n",
            "\n",
            "Downloading http://yann.lecun.com/exdb/mnist/t10k-labels-idx1-ubyte.gz\n",
            "Downloading http://yann.lecun.com/exdb/mnist/t10k-labels-idx1-ubyte.gz to ./data/MNIST/raw/t10k-labels-idx1-ubyte.gz\n"
          ],
          "name": "stdout"
        },
        {
          "output_type": "display_data",
          "data": {
            "application/vnd.jupyter.widget-view+json": {
              "model_id": "23fb01b764c242eabd7346bee0fcfa29",
              "version_minor": 0,
              "version_major": 2
            },
            "text/plain": [
              "HBox(children=(FloatProgress(value=0.0, max=4542.0), HTML(value='')))"
            ]
          },
          "metadata": {
            "tags": []
          }
        },
        {
          "output_type": "stream",
          "text": [
            "\n",
            "Extracting ./data/MNIST/raw/t10k-labels-idx1-ubyte.gz to ./data/MNIST/raw\n",
            "\n"
          ],
          "name": "stdout"
        },
        {
          "output_type": "stream",
          "text": [
            "/usr/local/lib/python3.7/dist-packages/torchvision/datasets/mnist.py:498: UserWarning: The given NumPy array is not writeable, and PyTorch does not support non-writeable tensors. This means you can write to the underlying (supposedly non-writeable) NumPy array using the tensor. You may want to copy the array to protect its data or make it writeable before converting it to a tensor. This type of warning will be suppressed for the rest of this program. (Triggered internally at  /pytorch/torch/csrc/utils/tensor_numpy.cpp:180.)\n",
            "  return torch.from_numpy(parsed.astype(m[2], copy=False)).view(*s)\n"
          ],
          "name": "stderr"
        },
        {
          "output_type": "display_data",
          "data": {
            "image/png": "[encoded data removed]",
            "text/plain": [
              "<Figure size 432x288 with 1 Axes>"
            ]
          },
          "metadata": {
            "tags": [],
            "needs_background": "light"
          }
        }
      ]
    },
    {
      "cell_type": "markdown",
      "metadata": {
        "id": "skHz57LISnpL"
      },
      "source": [
        "Let us define the generator network. The input to the network is a concatenation of the noise vector and the class vector."
      ]
    },
    {
      "cell_type": "code",
      "metadata": {
        "collapsed": true,
        "id": "YgYY9j05SnpM"
      },
      "source": [
        "G_ = torch.nn.Sequential(\n",
        "    torch.nn.Linear(z_dim + y_dim, h_dim),\n",
        "    torch.nn.PReLU(),\n",
        "    torch.nn.Linear(h_dim, X_dim),\n",
        "    torch.nn.Sigmoid()\n",
        ")\n",
        "\n",
        "\n",
        "def G(z, c):\n",
        "    inputs = torch.cat([z, c], 1)\n",
        "    return G_(inputs)\n",
        "\n",
        "if setcuda:\n",
        "    G_.cuda()"
      ],
      "execution_count": 3,
      "outputs": []
    },
    {
      "cell_type": "markdown",
      "metadata": {
        "id": "DZkDIathSnpN"
      },
      "source": [
        "The discriminator network has an interesting structure. It has a shared part, which branches into two parts: D_gan and D_aux. D_gan predicts real/fake while D_aux predicts the class label. \n",
        "\n",
        "If we look at the forward(), the input image is first processed by D_shared. The output of it is passed to both D_aux and D_gan."
      ]
    },
    {
      "cell_type": "code",
      "metadata": {
        "collapsed": true,
        "id": "irTyD2DWSnpP"
      },
      "source": [
        "D_shared = torch.nn.Sequential(\n",
        "    torch.nn.Linear(X_dim, h_dim),\n",
        "    torch.nn.PReLU()\n",
        ")\n",
        "\n",
        "D_gan = torch.nn.Sequential(\n",
        "    torch.nn.Linear(h_dim, 1),\n",
        "    torch.nn.Sigmoid()\n",
        ")\n",
        "\n",
        "D_aux = torch.nn.Sequential(\n",
        "    torch.nn.Linear(h_dim, y_dim),\n",
        "    torch.nn.Softmax()\n",
        ")\n",
        "\n",
        "\n",
        "def D(X):\n",
        "    h = D_shared(X)\n",
        "    return D_gan(h), D_aux(h)\n",
        "\n",
        "if setcuda:\n",
        "    D_shared = D_shared.cuda()\n",
        "    D_gan = D_gan.cuda()\n",
        "    D_aux = D_aux.cuda()"
      ],
      "execution_count": 4,
      "outputs": []
    },
    {
      "cell_type": "markdown",
      "metadata": {
        "id": "q3nbA7HfSnpQ"
      },
      "source": [
        "Let us get the parameters of all the networks and create the solvers."
      ]
    },
    {
      "cell_type": "code",
      "metadata": {
        "collapsed": true,
        "id": "8KoP9o7JSnpS"
      },
      "source": [
        "nets = [G_, D_shared, D_gan, D_aux]\n",
        "\n",
        "G_params = G_.parameters()\n",
        "D_params = (list(D_shared.parameters()) + list(D_gan.parameters()) +\n",
        "            list(D_aux.parameters()))\n",
        "\n",
        "\n",
        "def reset_grad():\n",
        "    for net in nets:\n",
        "        net.zero_grad()\n",
        "\n",
        "\n",
        "G_solver = optim.Adam(G_params, lr=lr)\n",
        "D_solver = optim.Adam(D_params, lr=lr)"
      ],
      "execution_count": 5,
      "outputs": []
    },
    {
      "cell_type": "markdown",
      "metadata": {
        "id": "JSz01G_DSnpS"
      },
      "source": [
        "Let us train the AC-GAN. The loss of the discriminator is loss of D_gan + loss of D_aux. Loss of generator is loss of D_aux - loss of D_gan. This means the aim of the generator is to fool the discriminator into thinking it is real and to produce images from the correct class. "
      ]
    },
    {
      "cell_type": "code",
      "metadata": {
        "id": "zidTgc59SnpS",
        "colab": {
          "base_uri": "https://localhost:8080/"
        },
        "outputId": "48f11285-4b41-4a4a-cfd0-7dce7dc4e3f6"
      },
      "source": [
        "dataiter = initialize_loader(trainset)\n",
        "\n",
        "for it in range(10000):\n",
        "    # Sample data\n",
        "#     pdb.set_trace()\n",
        "    X, y = mnist_next(dataiter)\n",
        "    \n",
        "#     if X.shape[0]!=mb_size:\n",
        "#         continue\n",
        "        \n",
        "    if setcuda:\n",
        "        X = Variable(torch.from_numpy(X).cuda())\n",
        "        c = Variable(torch.from_numpy(y.astype('float32')).cuda())\n",
        "        y_true = Variable(torch.from_numpy(y.argmax(axis=1).astype('int')).cuda())\n",
        "        z = Variable(torch.randn(mb_size, z_dim).cuda())\n",
        "    else:\n",
        "        X = Variable(torch.from_numpy(X))\n",
        "        # c is one-hot\n",
        "        c = Variable(torch.from_numpy(y.astype('float32')))\n",
        "        # y_true is not one-hot (requirement from nn.cross_entropy)\n",
        "        y_true = Variable(torch.from_numpy(y.argmax(axis=1).astype('int')))\n",
        "        # z noise\n",
        "        z = Variable(torch.randn(mb_size, z_dim))\n",
        "\n",
        "    \"\"\" Discriminator \"\"\"\n",
        "    G_sample = G(z, c)\n",
        "    D_real, C_real = D(X)\n",
        "    D_fake, C_fake = D(G_sample)\n",
        "\n",
        "    # GAN's D loss\n",
        "    D_loss = torch.mean(torch.log(D_real + eps) + torch.log(1 - D_fake + eps))\n",
        "    # Cross entropy aux loss\n",
        "    C_loss = -nn.cross_entropy(C_real, y_true) - nn.cross_entropy(C_fake, y_true)\n",
        "\n",
        "    # Maximize\n",
        "    DC_loss = -(D_loss + C_loss)\n",
        "\n",
        "    DC_loss.backward()\n",
        "    D_solver.step()\n",
        "\n",
        "    reset_grad()\n",
        "\n",
        "    \"\"\" Generator \"\"\"\n",
        "    G_sample = G(z, c)\n",
        "    D_fake, C_fake = D(G_sample)\n",
        "    _, C_real = D(X)\n",
        "\n",
        "    # GAN's G loss\n",
        "    G_loss = torch.mean(torch.log(D_fake + eps))\n",
        "    # Cross entropy aux loss\n",
        "    C_loss = -nn.cross_entropy(C_real, y_true) - nn.cross_entropy(C_fake, y_true)\n",
        "\n",
        "    # Maximize\n",
        "    GC_loss = -(G_loss + C_loss)\n",
        "\n",
        "    GC_loss.backward()\n",
        "    G_solver.step()\n",
        "\n",
        "    reset_grad()\n",
        "\n",
        "    # Print and plot every now and then\n",
        "    if it % 1000 == 0:\n",
        "        idx = np.random.randint(0, 10)\n",
        "        c = np.zeros([16, y_dim])\n",
        "        c[range(16), idx] = 1\n",
        "        c = Variable(torch.from_numpy(c.astype('float32')))\n",
        "\n",
        "\n",
        "        print('Iter-{}; D_loss: {:.4}; G_loss: {:.4}; Idx: {}'\n",
        "              .format(it, -D_loss.item(), -G_loss.item(), idx))"
      ],
      "execution_count": 7,
      "outputs": [
        {
          "output_type": "stream",
          "text": [
            "/usr/local/lib/python3.7/dist-packages/torch/nn/modules/container.py:139: UserWarning: Implicit dimension choice for softmax has been deprecated. Change the call to include dim=X as an argument.\n",
            "  input = module(input)\n"
          ],
          "name": "stderr"
        },
        {
          "output_type": "stream",
          "text": [
            "Iter-0; D_loss: 1.068; G_loss: 1.856; Idx: 6\n",
            "Iter-1000; D_loss: 0.04322; G_loss: 6.011; Idx: 7\n",
            "Iter-2000; D_loss: 0.3053; G_loss: 3.484; Idx: 3\n",
            "Iter-3000; D_loss: 0.8083; G_loss: 2.397; Idx: 8\n",
            "Iter-4000; D_loss: 0.1499; G_loss: 4.291; Idx: 9\n",
            "Iter-5000; D_loss: 0.5474; G_loss: 3.645; Idx: 8\n",
            "Iter-6000; D_loss: 0.6528; G_loss: 2.691; Idx: 7\n",
            "Iter-7000; D_loss: 0.4997; G_loss: 2.846; Idx: 2\n",
            "Iter-8000; D_loss: 0.8052; G_loss: 2.452; Idx: 5\n",
            "Iter-9000; D_loss: 0.5417; G_loss: 2.891; Idx: 0\n"
          ],
          "name": "stdout"
        }
      ]
    },
    {
      "cell_type": "markdown",
      "metadata": {
        "id": "tj2eKE5BSnpT"
      },
      "source": [
        "Let us see the images produced by this network. At testing time, we can see that it is similar to C-GAN."
      ]
    },
    {
      "cell_type": "code",
      "metadata": {
        "id": "T08TftJdSnpT",
        "colab": {
          "base_uri": "https://localhost:8080/",
          "height": 237
        },
        "outputId": "57595b4e-cee7-415c-938a-ea5cabbfe6ca"
      },
      "source": [
        "import torchvision\n",
        "\n",
        "if setcuda:\n",
        "    z = Variable(torch.randn(mb_size, z_dim).cuda())\n",
        "    discr_codes = Variable(torch.zeros(mb_size,10).cuda())\n",
        "else:\n",
        "    z = Variable(torch.randn(mb_size, z_dim))\n",
        "    discr_codes = Variable(torch.zeros(mb_size, 10))\n",
        "discr_codes[:,0] = 1 \n",
        "samples = G(z,discr_codes)\n",
        "samples = samples.cpu()\n",
        "img = samples.data\n",
        "img = img.view([mb_size,1,28,28])\n",
        "img = torchvision.utils.make_grid(img)\n",
        "img = img.permute(1,2,0)\n",
        "plt.imshow(img.numpy())"
      ],
      "execution_count": 8,
      "outputs": [
        {
          "output_type": "execute_result",
          "data": {
            "text/plain": [
              "<matplotlib.image.AxesImage at 0x7f9ea12f9090>"
            ]
          },
          "metadata": {
            "tags": []
          },
          "execution_count": 8
        },
        {
          "output_type": "display_data",
          "data": {
            "image/png": "[encoded data removed]",
            "text/plain": [
              "<Figure size 432x288 with 1 Axes>"
            ]
          },
          "metadata": {
            "tags": [],
            "needs_background": "light"
          }
        }
      ]
    },
    {
      "cell_type": "markdown",
      "metadata": {
        "id": "rgsQdYHDSnpU"
      },
      "source": [
        "### Questions/Exercises\n",
        "\n",
        "<ol>\n",
        "<li> How does AC-GAN compare to C-GAN in terms of\n",
        "<ol>\n",
        "<li> Quality of images</li>\n",
        "<li>Training time</li>\n",
        "<li>Stability of loss function</li>\n",
        "</ol></li>\n",
        "<li> Can you think of a way to add some attributes along with the classification vector? </li>\n",
        "</ol>"
      ]
    }
  ]
}
